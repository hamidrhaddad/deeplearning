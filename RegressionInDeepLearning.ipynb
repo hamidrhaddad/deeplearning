{
 "cells": [
  {
   "cell_type": "code",
   "execution_count": 1,
   "metadata": {},
   "outputs": [],
   "source": [
    "import numpy as np"
   ]
  },
  {
   "cell_type": "code",
   "execution_count": 2,
   "metadata": {},
   "outputs": [],
   "source": [
    "import tensorflow as tf"
   ]
  },
  {
   "cell_type": "code",
   "execution_count": 3,
   "metadata": {},
   "outputs": [],
   "source": [
    "from sklearn.datasets import load_boston"
   ]
  },
  {
   "cell_type": "code",
   "execution_count": 4,
   "metadata": {},
   "outputs": [
    {
     "name": "stderr",
     "output_type": "stream",
     "text": [
      "C:\\ProgramData\\Anaconda3\\lib\\site-packages\\sklearn\\utils\\deprecation.py:87: FutureWarning: Function load_boston is deprecated; `load_boston` is deprecated in 1.0 and will be removed in 1.2.\n",
      "\n",
      "    The Boston housing prices dataset has an ethical problem. You can refer to\n",
      "    the documentation of this function for further details.\n",
      "\n",
      "    The scikit-learn maintainers therefore strongly discourage the use of this\n",
      "    dataset unless the purpose of the code is to study and educate about\n",
      "    ethical issues in data science and machine learning.\n",
      "\n",
      "    In this special case, you can fetch the dataset from the original\n",
      "    source::\n",
      "\n",
      "        import pandas as pd\n",
      "        import numpy as np\n",
      "\n",
      "\n",
      "        data_url = \"http://lib.stat.cmu.edu/datasets/boston\"\n",
      "        raw_df = pd.read_csv(data_url, sep=\"\\s+\", skiprows=22, header=None)\n",
      "        data = np.hstack([raw_df.values[::2, :], raw_df.values[1::2, :2]])\n",
      "        target = raw_df.values[1::2, 2]\n",
      "\n",
      "    Alternative datasets include the California housing dataset (i.e.\n",
      "    :func:`~sklearn.datasets.fetch_california_housing`) and the Ames housing\n",
      "    dataset. You can load the datasets as follows::\n",
      "\n",
      "        from sklearn.datasets import fetch_california_housing\n",
      "        housing = fetch_california_housing()\n",
      "\n",
      "    for the California housing dataset and::\n",
      "\n",
      "        from sklearn.datasets import fetch_openml\n",
      "        housing = fetch_openml(name=\"house_prices\", as_frame=True)\n",
      "\n",
      "    for the Ames housing dataset.\n",
      "    \n",
      "  warnings.warn(msg, category=FutureWarning)\n"
     ]
    }
   ],
   "source": [
    "data= load_boston()"
   ]
  },
  {
   "cell_type": "code",
   "execution_count": 5,
   "metadata": {},
   "outputs": [],
   "source": [
    "x=data.data[:,:2]"
   ]
  },
  {
   "cell_type": "code",
   "execution_count": 6,
   "metadata": {},
   "outputs": [],
   "source": [
    "y=data.target"
   ]
  },
  {
   "cell_type": "code",
   "execution_count": 7,
   "metadata": {},
   "outputs": [],
   "source": [
    "model = tf.keras.models.Sequential([\n",
    "    \n",
    "    tf.keras.layers.Input(shape=(2,)),\n",
    "    tf.keras.layers.Dense(1)\n",
    "    \n",
    "    \n",
    "    \n",
    "])"
   ]
  },
  {
   "cell_type": "code",
   "execution_count": 8,
   "metadata": {},
   "outputs": [],
   "source": [
    "model.compile(optimizer = tf.keras.optimizers.SGD(0.001,0.9), loss = 'MSE')"
   ]
  },
  {
   "cell_type": "code",
   "execution_count": 9,
   "metadata": {},
   "outputs": [],
   "source": [
    "from sklearn.model_selection import train_test_split"
   ]
  },
  {
   "cell_type": "code",
   "execution_count": 10,
   "metadata": {},
   "outputs": [],
   "source": [
    "xtrain, xtest, ytrain, ytest= train_test_split(x,y, test_size=0.33)"
   ]
  },
  {
   "cell_type": "code",
   "execution_count": 11,
   "metadata": {},
   "outputs": [
    {
     "name": "stdout",
     "output_type": "stream",
     "text": [
      "Epoch 1/100\n",
      "11/11 [==============================] - 1s 23ms/step - loss: 561.9521 - val_loss: 604.0176\n",
      "Epoch 2/100\n",
      "11/11 [==============================] - 0s 6ms/step - loss: 712.6765 - val_loss: 270.4470\n",
      "Epoch 3/100\n",
      "11/11 [==============================] - 0s 6ms/step - loss: 337.6006 - val_loss: 355.7854\n",
      "Epoch 4/100\n",
      "11/11 [==============================] - 0s 6ms/step - loss: 488.4017 - val_loss: 312.4398\n",
      "Epoch 5/100\n",
      "11/11 [==============================] - 0s 5ms/step - loss: 793.8340 - val_loss: 1857.9293\n",
      "Epoch 6/100\n",
      "11/11 [==============================] - 0s 6ms/step - loss: 11181.6738 - val_loss: 12838.4521\n",
      "Epoch 7/100\n",
      "11/11 [==============================] - 0s 6ms/step - loss: 84364.7578 - val_loss: 341917.6250\n",
      "Epoch 8/100\n",
      "11/11 [==============================] - 0s 6ms/step - loss: 180312.7500 - val_loss: 20113.7520\n",
      "Epoch 9/100\n",
      "11/11 [==============================] - 0s 5ms/step - loss: 311746.0000 - val_loss: 366142.1250\n",
      "Epoch 10/100\n",
      "11/11 [==============================] - 0s 5ms/step - loss: 259142.2344 - val_loss: 299660.2500\n",
      "Epoch 11/100\n",
      "11/11 [==============================] - 0s 5ms/step - loss: 378125.7500 - val_loss: 3446490.5000\n",
      "Epoch 12/100\n",
      "11/11 [==============================] - 0s 5ms/step - loss: 7346513.5000 - val_loss: 10593761.0000\n",
      "Epoch 13/100\n",
      "11/11 [==============================] - 0s 5ms/step - loss: 76160072.0000 - val_loss: 28099744.0000\n",
      "Epoch 14/100\n",
      "11/11 [==============================] - 0s 5ms/step - loss: 86660104.0000 - val_loss: 690781120.0000\n",
      "Epoch 15/100\n",
      "11/11 [==============================] - 0s 5ms/step - loss: 256648592.0000 - val_loss: 41042796.0000\n",
      "Epoch 16/100\n",
      "11/11 [==============================] - 0s 6ms/step - loss: 29718030.0000 - val_loss: 473291.9688\n",
      "Epoch 17/100\n",
      "11/11 [==============================] - 0s 6ms/step - loss: 457138592.0000 - val_loss: 2664452864.0000\n",
      "Epoch 18/100\n",
      "11/11 [==============================] - 0s 6ms/step - loss: 6271180288.0000 - val_loss: 8340557312.0000\n",
      "Epoch 19/100\n",
      "11/11 [==============================] - 0s 6ms/step - loss: 3404361984.0000 - val_loss: 177832544.0000\n",
      "Epoch 20/100\n",
      "11/11 [==============================] - 0s 6ms/step - loss: 943235392.0000 - val_loss: 1911081600.0000\n",
      "Epoch 21/100\n",
      "11/11 [==============================] - 0s 6ms/step - loss: 1060547456.0000 - val_loss: 2800928768.0000\n",
      "Epoch 22/100\n",
      "11/11 [==============================] - 0s 6ms/step - loss: 1575162752.0000 - val_loss: 141208480.0000\n",
      "Epoch 23/100\n",
      "11/11 [==============================] - 0s 6ms/step - loss: 1626407552.0000 - val_loss: 1125072768.0000\n",
      "Epoch 24/100\n",
      "11/11 [==============================] - 0s 6ms/step - loss: 307488832.0000 - val_loss: 406193312.0000\n",
      "Epoch 25/100\n",
      "11/11 [==============================] - 0s 5ms/step - loss: 101963760.0000 - val_loss: 181443472.0000\n",
      "Epoch 26/100\n",
      "11/11 [==============================] - 0s 6ms/step - loss: 165136672.0000 - val_loss: 127104152.0000\n",
      "Epoch 27/100\n",
      "11/11 [==============================] - 0s 6ms/step - loss: 69581936.0000 - val_loss: 59975220.0000\n",
      "Epoch 28/100\n",
      "11/11 [==============================] - 0s 6ms/step - loss: 143730144.0000 - val_loss: 1603476480.0000\n",
      "Epoch 29/100\n",
      "11/11 [==============================] - 0s 6ms/step - loss: 1517645824.0000 - val_loss: 8920335360.0000\n",
      "Epoch 30/100\n",
      "11/11 [==============================] - 0s 6ms/step - loss: 21347371008.0000 - val_loss: 93844635648.0000\n",
      "Epoch 31/100\n",
      "11/11 [==============================] - 0s 6ms/step - loss: 27490224128.0000 - val_loss: 14314793984.0000\n",
      "Epoch 32/100\n",
      "11/11 [==============================] - 0s 6ms/step - loss: 6555327488.0000 - val_loss: 4038058240.0000\n",
      "Epoch 33/100\n",
      "11/11 [==============================] - 0s 6ms/step - loss: 2682667520.0000 - val_loss: 1193525120.0000\n",
      "Epoch 34/100\n",
      "11/11 [==============================] - 0s 6ms/step - loss: 5743489024.0000 - val_loss: 5234117632.0000\n",
      "Epoch 35/100\n",
      "11/11 [==============================] - 0s 6ms/step - loss: 2913278464.0000 - val_loss: 368075296.0000\n",
      "Epoch 36/100\n",
      "11/11 [==============================] - 0s 6ms/step - loss: 17024750592.0000 - val_loss: 76718612480.0000\n",
      "Epoch 37/100\n",
      "11/11 [==============================] - 0s 6ms/step - loss: 31093399552.0000 - val_loss: 3169547776.0000\n",
      "Epoch 38/100\n",
      "11/11 [==============================] - 0s 6ms/step - loss: 10733340672.0000 - val_loss: 17979373568.0000\n",
      "Epoch 39/100\n",
      "11/11 [==============================] - 0s 6ms/step - loss: 33433415680.0000 - val_loss: 598440448.0000\n",
      "Epoch 40/100\n",
      "11/11 [==============================] - 0s 6ms/step - loss: 35907317760.0000 - val_loss: 31797176320.0000\n",
      "Epoch 41/100\n",
      "11/11 [==============================] - 0s 6ms/step - loss: 264507506688.0000 - val_loss: 51083915264.0000\n",
      "Epoch 42/100\n",
      "11/11 [==============================] - 0s 6ms/step - loss: 392701607936.0000 - val_loss: 7561159168.0000\n",
      "Epoch 43/100\n",
      "11/11 [==============================] - 0s 6ms/step - loss: 111155585024.0000 - val_loss: 552745041920.0000\n",
      "Epoch 44/100\n",
      "11/11 [==============================] - 0s 6ms/step - loss: 125279453184.0000 - val_loss: 5074291200.0000\n",
      "Epoch 45/100\n",
      "11/11 [==============================] - 0s 6ms/step - loss: 9287368704.0000 - val_loss: 2692032256.0000\n",
      "Epoch 46/100\n",
      "11/11 [==============================] - 0s 6ms/step - loss: 9006400512.0000 - val_loss: 1246589056.0000\n",
      "Epoch 47/100\n",
      "11/11 [==============================] - 0s 6ms/step - loss: 5732797952.0000 - val_loss: 209959408.0000\n",
      "Epoch 48/100\n",
      "11/11 [==============================] - 0s 6ms/step - loss: 1606635520.0000 - val_loss: 2132580096.0000\n",
      "Epoch 49/100\n",
      "11/11 [==============================] - 0s 6ms/step - loss: 5389872640.0000 - val_loss: 15263570944.0000\n",
      "Epoch 50/100\n",
      "11/11 [==============================] - 0s 6ms/step - loss: 21552902144.0000 - val_loss: 24435769344.0000\n",
      "Epoch 51/100\n",
      "11/11 [==============================] - 0s 6ms/step - loss: 24134123520.0000 - val_loss: 74931707904.0000\n",
      "Epoch 52/100\n",
      "11/11 [==============================] - 0s 6ms/step - loss: 54782898176.0000 - val_loss: 543334080.0000\n",
      "Epoch 53/100\n",
      "11/11 [==============================] - 0s 6ms/step - loss: 70279618560.0000 - val_loss: 193503985664.0000\n",
      "Epoch 54/100\n",
      "11/11 [==============================] - 0s 6ms/step - loss: 209795219456.0000 - val_loss: 1312178438144.0000\n",
      "Epoch 55/100\n",
      "11/11 [==============================] - 0s 6ms/step - loss: 633516392448.0000 - val_loss: 4481978204160.0000\n",
      "Epoch 56/100\n",
      "11/11 [==============================] - 0s 6ms/step - loss: 4532353892352.0000 - val_loss: 2702082834432.0000\n",
      "Epoch 57/100\n",
      "11/11 [==============================] - 0s 6ms/step - loss: 21548849168384.0000 - val_loss: 11315995213824.0000\n",
      "Epoch 58/100\n",
      "11/11 [==============================] - 0s 6ms/step - loss: 48917848784896.0000 - val_loss: 99715307798528.0000\n",
      "Epoch 59/100\n",
      "11/11 [==============================] - 0s 6ms/step - loss: 31501420855296.0000 - val_loss: 8124545024.0000\n",
      "Epoch 60/100\n",
      "11/11 [==============================] - 0s 6ms/step - loss: 67771379482624.0000 - val_loss: 235971928915968.0000\n",
      "Epoch 61/100\n",
      "11/11 [==============================] - 0s 6ms/step - loss: 79770603749376.0000 - val_loss: 28089226625024.0000\n",
      "Epoch 62/100\n",
      "11/11 [==============================] - 0s 6ms/step - loss: 7253921890304.0000 - val_loss: 6334354817024.0000\n",
      "Epoch 63/100\n",
      "11/11 [==============================] - 0s 7ms/step - loss: 7197866065920.0000 - val_loss: 1766476349440.0000\n",
      "Epoch 64/100\n",
      "11/11 [==============================] - 0s 6ms/step - loss: 1217256882176.0000 - val_loss: 727406018560.0000\n",
      "Epoch 65/100\n",
      "11/11 [==============================] - 0s 6ms/step - loss: 331297062912.0000 - val_loss: 358895943680.0000\n",
      "Epoch 66/100\n",
      "11/11 [==============================] - 0s 6ms/step - loss: 222425530368.0000 - val_loss: 309369765888.0000\n",
      "Epoch 67/100\n",
      "11/11 [==============================] - 0s 6ms/step - loss: 288754237440.0000 - val_loss: 238098530304.0000\n",
      "Epoch 68/100\n",
      "11/11 [==============================] - 0s 5ms/step - loss: 6092012126208.0000 - val_loss: 17057734197248.0000\n",
      "Epoch 69/100\n",
      "11/11 [==============================] - 0s 6ms/step - loss: 18096093921280.0000 - val_loss: 40164692852736.0000\n",
      "Epoch 70/100\n",
      "11/11 [==============================] - 0s 5ms/step - loss: 38643120996352.0000 - val_loss: 45330385076224.0000\n"
     ]
    },
    {
     "name": "stdout",
     "output_type": "stream",
     "text": [
      "Epoch 71/100\n",
      "11/11 [==============================] - 0s 6ms/step - loss: 68791002202112.0000 - val_loss: 29990458490880.0000\n",
      "Epoch 72/100\n",
      "11/11 [==============================] - 0s 5ms/step - loss: 109435833810944.0000 - val_loss: 117361818468352.0000\n",
      "Epoch 73/100\n",
      "11/11 [==============================] - 0s 5ms/step - loss: 57667330506752.0000 - val_loss: 44246484647936.0000\n",
      "Epoch 74/100\n",
      "11/11 [==============================] - 0s 5ms/step - loss: 60339722911744.0000 - val_loss: 160056098816.0000\n",
      "Epoch 75/100\n",
      "11/11 [==============================] - 0s 5ms/step - loss: 5947631599616.0000 - val_loss: 6905875922944.0000\n",
      "Epoch 76/100\n",
      "11/11 [==============================] - 0s 5ms/step - loss: 1382136545280.0000 - val_loss: 233850961920.0000\n",
      "Epoch 77/100\n",
      "11/11 [==============================] - 0s 5ms/step - loss: 1047894425600.0000 - val_loss: 1116576153600.0000\n",
      "Epoch 78/100\n",
      "11/11 [==============================] - 0s 5ms/step - loss: 2033402118144.0000 - val_loss: 94469423104.0000\n",
      "Epoch 79/100\n",
      "11/11 [==============================] - 0s 5ms/step - loss: 9115172601856.0000 - val_loss: 6987875614720.0000\n",
      "Epoch 80/100\n",
      "11/11 [==============================] - 0s 5ms/step - loss: 11717728796672.0000 - val_loss: 7781516050432.0000\n",
      "Epoch 81/100\n",
      "11/11 [==============================] - 0s 6ms/step - loss: 4555938988032.0000 - val_loss: 295281557504.0000\n",
      "Epoch 82/100\n",
      "11/11 [==============================] - 0s 5ms/step - loss: 910785576960.0000 - val_loss: 292672929792.0000\n",
      "Epoch 83/100\n",
      "11/11 [==============================] - 0s 6ms/step - loss: 665266421760.0000 - val_loss: 313322944.0000\n",
      "Epoch 84/100\n",
      "11/11 [==============================] - 0s 6ms/step - loss: 175476408320.0000 - val_loss: 2013482975232.0000\n",
      "Epoch 85/100\n",
      "11/11 [==============================] - 0s 6ms/step - loss: 454127747072.0000 - val_loss: 5080966656.0000\n",
      "Epoch 86/100\n",
      "11/11 [==============================] - 0s 5ms/step - loss: 818321031168.0000 - val_loss: 5637193859072.0000\n",
      "Epoch 87/100\n",
      "11/11 [==============================] - 0s 5ms/step - loss: 6965394669568.0000 - val_loss: 1794929459200.0000\n",
      "Epoch 88/100\n",
      "11/11 [==============================] - 0s 6ms/step - loss: 2382603485184.0000 - val_loss: 6867337084928.0000\n",
      "Epoch 89/100\n",
      "11/11 [==============================] - 0s 5ms/step - loss: 1547690835968.0000 - val_loss: 84639096832.0000\n",
      "Epoch 90/100\n",
      "11/11 [==============================] - 0s 5ms/step - loss: 20316616704.0000 - val_loss: 43023323136.0000\n",
      "Epoch 91/100\n",
      "11/11 [==============================] - 0s 6ms/step - loss: 26576035840.0000 - val_loss: 4654562304.0000\n",
      "Epoch 92/100\n",
      "11/11 [==============================] - 0s 6ms/step - loss: 3718306560.0000 - val_loss: 771141120.0000\n",
      "Epoch 93/100\n",
      "11/11 [==============================] - 0s 6ms/step - loss: 3409688576.0000 - val_loss: 2000812160.0000\n",
      "Epoch 94/100\n",
      "11/11 [==============================] - 0s 6ms/step - loss: 453115552.0000 - val_loss: 116807560.0000\n",
      "Epoch 95/100\n",
      "11/11 [==============================] - 0s 6ms/step - loss: 146234240.0000 - val_loss: 23668740.0000\n",
      "Epoch 96/100\n",
      "11/11 [==============================] - 0s 6ms/step - loss: 139822528.0000 - val_loss: 127686856.0000\n",
      "Epoch 97/100\n",
      "11/11 [==============================] - 0s 5ms/step - loss: 257215024.0000 - val_loss: 17916564.0000\n",
      "Epoch 98/100\n",
      "11/11 [==============================] - 0s 5ms/step - loss: 120303616.0000 - val_loss: 5239753.0000\n",
      "Epoch 99/100\n",
      "11/11 [==============================] - 0s 5ms/step - loss: 23529590.0000 - val_loss: 40918776.0000\n",
      "Epoch 100/100\n",
      "11/11 [==============================] - 0s 6ms/step - loss: 21635964.0000 - val_loss: 15760349.0000\n"
     ]
    }
   ],
   "source": [
    "r = model.fit(xtrain, ytrain, validation_data=(xtest, ytest), epochs=100)"
   ]
  },
  {
   "cell_type": "code",
   "execution_count": 13,
   "metadata": {},
   "outputs": [],
   "source": [
    "import matplotlib.pyplot as plt"
   ]
  },
  {
   "cell_type": "code",
   "execution_count": 14,
   "metadata": {},
   "outputs": [
    {
     "data": {
      "text/plain": [
       "[<matplotlib.lines.Line2D at 0x234d3f60>]"
      ]
     },
     "execution_count": 14,
     "metadata": {},
     "output_type": "execute_result"
    },
    {
     "data": {
      "image/png": "[encoded data removed]",
      "text/plain": [
       "<Figure size 432x288 with 1 Axes>"
      ]
     },
     "metadata": {
      "needs_background": "light"
     },
     "output_type": "display_data"
    }
   ],
   "source": [
    "plt.plot(r.history['loss'])\n",
    "plt.plot(r.history['val_loss'])"
   ]
  },
  {
   "cell_type": "code",
   "execution_count": 15,
   "metadata": {},
   "outputs": [
    {
     "name": "stdout",
     "output_type": "stream",
     "text": [
      "6/6 [==============================] - 0s 3ms/step\n"
     ]
    }
   ],
   "source": [
    "p= model.predict(xtest)"
   ]
  },
  {
   "cell_type": "code",
   "execution_count": 16,
   "metadata": {},
   "outputs": [
    {
     "data": {
      "text/plain": [
       "array([[ -729.90784],\n",
       "       [-1954.4192 ],\n",
       "       [-1951.5957 ],\n",
       "       [-1953.748  ],\n",
       "       [-1857.3163 ],\n",
       "       [-1951.9106 ],\n",
       "       [-1934.7487 ],\n",
       "       [-1931.7487 ],\n",
       "       [11462.837  ],\n",
       "       [-1694.319  ],\n",
       "       [-1756.1493 ],\n",
       "       [11463.923  ],\n",
       "       [  819.68823],\n",
       "       [-1446.9934 ],\n",
       "       [ 2242.1306 ],\n",
       "       [-1937.8203 ],\n",
       "       [-1902.4553 ],\n",
       "       [13979.777  ],\n",
       "       [10625.164  ],\n",
       "       [-1710.269  ],\n",
       "       [-1653.8452 ],\n",
       "       [-1943.7991 ],\n",
       "       [-1883.9729 ],\n",
       "       [ 1568.2817 ],\n",
       "       [ 8111.2285 ],\n",
       "       [ 5595.5254 ],\n",
       "       [-1949.742  ],\n",
       "       [-1948.7212 ],\n",
       "       [ 8108.076  ],\n",
       "       [ 3082.131  ],\n",
       "       [-1354.862  ],\n",
       "       [ -986.75934],\n",
       "       [-1951.0261 ],\n",
       "       [-1904.99   ],\n",
       "       [-1955.5302 ],\n",
       "       [-1922.8204 ],\n",
       "       [ -892.1504 ],\n",
       "       [-1126.7777 ],\n",
       "       [  147.66699],\n",
       "       [-1948.2335 ],\n",
       "       [-1640.8093 ],\n",
       "       [-1556.8667 ],\n",
       "       [-1935.8541 ],\n",
       "       [-1950.6829 ],\n",
       "       [-1914.9147 ],\n",
       "       [ 4756.8994 ],\n",
       "       [-1698.842  ],\n",
       "       [11463.984  ],\n",
       "       [-1949.1593 ],\n",
       "       [ 3079.681  ],\n",
       "       [-1945.6218 ],\n",
       "       [-1952.3325 ],\n",
       "       [-1868.4545 ],\n",
       "       [-1401.2544 ],\n",
       "       [-1141.145  ],\n",
       "       [-1835.1306 ],\n",
       "       [-1939.605  ],\n",
       "       [-1595.5372 ],\n",
       "       [  146.77686],\n",
       "       [ 3080.2278 ],\n",
       "       [ 2243.3914 ],\n",
       "       [-1943.9027 ],\n",
       "       [ 1737.7773 ],\n",
       "       [-1890.4485 ],\n",
       "       [-1808.4373 ],\n",
       "       [-1609.7524 ],\n",
       "       [-1950.2246 ],\n",
       "       [-1936.4823 ],\n",
       "       [-1680.5001 ],\n",
       "       [ 1427.1675 ],\n",
       "       [ 1743.9868 ],\n",
       "       [-1095.7029 ],\n",
       "       [ 3915.7678 ],\n",
       "       [-1748.5535 ],\n",
       "       [-1911.2468 ],\n",
       "       [-1938.8883 ],\n",
       "       [-1757.4133 ],\n",
       "       [-1669.4841 ],\n",
       "       [-1949.7642 ],\n",
       "       [-1947.709  ],\n",
       "       [ 2238.451  ],\n",
       "       [ -610.2023 ],\n",
       "       [-1302.6926 ],\n",
       "       [-1945.0935 ],\n",
       "       [-1828.275  ],\n",
       "       [ 4758.252  ],\n",
       "       [-1737.6086 ],\n",
       "       [-1939.7646 ],\n",
       "       [13140.313  ],\n",
       "       [ 3581.3884 ],\n",
       "       [-1947.7861 ],\n",
       "       [-1947.4136 ],\n",
       "       [-1955.1289 ],\n",
       "       [-1946.4689 ],\n",
       "       [ 2238.9456 ],\n",
       "       [ 3748.07   ],\n",
       "       [-1201.4158 ],\n",
       "       [-1938.9779 ],\n",
       "       [-1173.865  ],\n",
       "       [-1132.794  ],\n",
       "       [-1423.49   ],\n",
       "       [-1914.3059 ],\n",
       "       [-1949.0262 ],\n",
       "       [-1945.3965 ],\n",
       "       [-1951.411  ],\n",
       "       [ 9787.057  ],\n",
       "       [-1951.9437 ],\n",
       "       [-1887.7401 ],\n",
       "       [-1903.8823 ],\n",
       "       [-1883.3278 ],\n",
       "       [-1941.0912 ],\n",
       "       [ 2741.2927 ],\n",
       "       [-1951.5387 ],\n",
       "       [ -596.93176],\n",
       "       [-1839.8715 ],\n",
       "       [-1661.4431 ],\n",
       "       [-1947.583  ],\n",
       "       [ 9787.678  ],\n",
       "       [-1954.3431 ],\n",
       "       [-1943.5715 ],\n",
       "       [-1953.603  ],\n",
       "       [-1927.7284 ],\n",
       "       [14817.527  ],\n",
       "       [-1953.0785 ],\n",
       "       [-1892.1122 ],\n",
       "       [-1044.0383 ],\n",
       "       [-1916.1488 ],\n",
       "       [ -832.037  ],\n",
       "       [-1803.8539 ],\n",
       "       [-1350.8984 ],\n",
       "       [13979.158  ],\n",
       "       [ 1743.6697 ],\n",
       "       [  298.0686 ],\n",
       "       [ 1409.2639 ],\n",
       "       [-1307.9648 ],\n",
       "       [-1690.9226 ],\n",
       "       [-1704.5693 ],\n",
       "       [-1942.2596 ],\n",
       "       [-1944.4375 ],\n",
       "       [-1859.1348 ],\n",
       "       [ 6851.7646 ],\n",
       "       [-1548.2388 ],\n",
       "       [11464.067  ],\n",
       "       [-1953.2936 ],\n",
       "       [-1891.3259 ],\n",
       "       [-1535.9554 ],\n",
       "       [-1847.737  ],\n",
       "       [ 3914.5925 ],\n",
       "       [ 1568.4875 ],\n",
       "       [-1458.0491 ],\n",
       "       [-1776.5599 ],\n",
       "       [-1950.192  ],\n",
       "       [-1953.7725 ],\n",
       "       [-1880.1172 ],\n",
       "       [ 1429.2434 ],\n",
       "       [-1874.4066 ],\n",
       "       [ 5595.002  ],\n",
       "       [ 5595.954  ],\n",
       "       [-1922.6918 ],\n",
       "       [-1889.9657 ],\n",
       "       [-1692.3784 ],\n",
       "       [ 3581.408  ],\n",
       "       [ 5595.795  ],\n",
       "       [ 4755.9404 ],\n",
       "       [11466.304  ],\n",
       "       [-1952.535  ],\n",
       "       [-1831.9792 ]], dtype=float32)"
      ]
     },
     "execution_count": 16,
     "metadata": {},
     "output_type": "execute_result"
    }
   ],
   "source": [
    "p"
   ]
  },
  {
   "cell_type": "code",
   "execution_count": 17,
   "metadata": {},
   "outputs": [
    {
     "data": {
      "text/plain": [
       "<matplotlib.collections.PathCollection at 0x225a07f0>"
      ]
     },
     "execution_count": 17,
     "metadata": {},
     "output_type": "execute_result"
    },
    {
     "data": {
      "image/png": "[encoded data removed]",
      "text/plain": [
       "<Figure size 432x288 with 1 Axes>"
      ]
     },
     "metadata": {
      "needs_background": "light"
     },
     "output_type": "display_data"
    }
   ],
   "source": [
    "plt.scatter(p, ytest)"
   ]
  },
  {
   "cell_type": "code",
   "execution_count": null,
   "metadata": {},
   "outputs": [],
   "source": []
  }
 ],
 "metadata": {
  "kernelspec": {
   "display_name": "Python 3",
   "language": "python",
   "name": "python3"
  },
  "language_info": {
   "codemirror_mode": {
    "name": "ipython",
    "version": 3
   },
   "file_extension": ".py",
   "mimetype": "text/x-python",
   "name": "python",
   "nbconvert_exporter": "python",
   "pygments_lexer": "ipython3",
   "version": "3.7.3"
  }
 },
 "nbformat": 4,
 "nbformat_minor": 2
}
