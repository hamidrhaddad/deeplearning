{
 "cells": [
  {
   "cell_type": "code",
   "execution_count": 1,
   "metadata": {},
   "outputs": [],
   "source": [
    "from tensorflow.keras.preprocessing.text import Tokenizer"
   ]
  },
  {
   "cell_type": "code",
   "execution_count": 2,
   "metadata": {},
   "outputs": [],
   "source": [
    "from tensorflow.keras.preprocessing.sequence import pad_sequences"
   ]
  },
  {
   "cell_type": "code",
   "execution_count": 3,
   "metadata": {},
   "outputs": [],
   "source": [
    "from sklearn.model_selection import train_test_split"
   ]
  },
  {
   "cell_type": "code",
   "execution_count": 4,
   "metadata": {},
   "outputs": [],
   "source": [
    "from tensorflow.keras.layers import Input, Embedding, LSTM, GlobalMaxPool1D, Dense"
   ]
  },
  {
   "cell_type": "code",
   "execution_count": 5,
   "metadata": {},
   "outputs": [],
   "source": [
    "from tensorflow.keras.models import Model"
   ]
  },
  {
   "cell_type": "code",
   "execution_count": 6,
   "metadata": {},
   "outputs": [],
   "source": [
    "import pandas as pd"
   ]
  },
  {
   "cell_type": "code",
   "execution_count": 7,
   "metadata": {},
   "outputs": [],
   "source": [
    "data = pd.read_excel('data.xlsx')"
   ]
  },
  {
   "cell_type": "code",
   "execution_count": 8,
   "metadata": {},
   "outputs": [],
   "source": [
    "data1 = data.text"
   ]
  },
  {
   "cell_type": "code",
   "execution_count": 9,
   "metadata": {},
   "outputs": [],
   "source": [
    "data2= data.result"
   ]
  },
  {
   "cell_type": "code",
   "execution_count": 10,
   "metadata": {},
   "outputs": [],
   "source": [
    "dftrain, dftest, ytrain, ytest = train_test_split(data1, data2, test_size=0.2)"
   ]
  },
  {
   "cell_type": "code",
   "execution_count": 11,
   "metadata": {},
   "outputs": [],
   "source": [
    "MaxVocabSize=20000"
   ]
  },
  {
   "cell_type": "code",
   "execution_count": 12,
   "metadata": {},
   "outputs": [],
   "source": [
    "tokenizer = Tokenizer(num_words= MaxVocabSize)"
   ]
  },
  {
   "cell_type": "code",
   "execution_count": 13,
   "metadata": {},
   "outputs": [],
   "source": [
    "tokenizer.fit_on_texts(dftrain)"
   ]
  },
  {
   "cell_type": "code",
   "execution_count": 14,
   "metadata": {},
   "outputs": [],
   "source": [
    "seqtrain = tokenizer.texts_to_sequences(dftrain)"
   ]
  },
  {
   "cell_type": "code",
   "execution_count": 15,
   "metadata": {},
   "outputs": [],
   "source": [
    "seqtest= tokenizer.texts_to_sequences(dftest)"
   ]
  },
  {
   "cell_type": "code",
   "execution_count": 16,
   "metadata": {},
   "outputs": [],
   "source": [
    "word2idx = tokenizer.word_index"
   ]
  },
  {
   "cell_type": "code",
   "execution_count": 17,
   "metadata": {},
   "outputs": [],
   "source": [
    "V = len(word2idx)"
   ]
  },
  {
   "cell_type": "code",
   "execution_count": 18,
   "metadata": {},
   "outputs": [],
   "source": [
    "D,M = 20,15"
   ]
  },
  {
   "cell_type": "code",
   "execution_count": 19,
   "metadata": {},
   "outputs": [],
   "source": [
    "datatrain = pad_sequences(seqtrain)"
   ]
  },
  {
   "cell_type": "code",
   "execution_count": 20,
   "metadata": {},
   "outputs": [],
   "source": [
    "T = datatrain.shape[1]"
   ]
  },
  {
   "cell_type": "code",
   "execution_count": 21,
   "metadata": {},
   "outputs": [],
   "source": [
    "datatest = pad_sequences(seqtest, maxlen= T)"
   ]
  },
  {
   "cell_type": "code",
   "execution_count": 22,
   "metadata": {},
   "outputs": [],
   "source": [
    "i = Input(shape = (T,))\n",
    "x = Embedding(V+1, D)(i)\n",
    "x = LSTM(M, return_sequences= True)(x)\n",
    "x = GlobalMaxPool1D()(x)\n",
    "x = Dense(1, activation='sigmoid')(x)\n",
    "model = Model(i,x)"
   ]
  },
  {
   "cell_type": "code",
   "execution_count": 23,
   "metadata": {},
   "outputs": [],
   "source": [
    "model.compile(optimizer = 'adam', loss = 'binary_crossentropy', metrics = ['accuracy'])"
   ]
  },
  {
   "cell_type": "code",
   "execution_count": 24,
   "metadata": {},
   "outputs": [
    {
     "name": "stdout",
     "output_type": "stream",
     "text": [
      "Epoch 1/80\n",
      "1/1 [==============================] - 4s 4s/step - loss: 0.6930 - accuracy: 0.5000 - val_loss: 0.6934 - val_accuracy: 0.5000\n",
      "Epoch 2/80\n",
      "1/1 [==============================] - 0s 40ms/step - loss: 0.6901 - accuracy: 0.7500 - val_loss: 0.6934 - val_accuracy: 0.5000\n",
      "Epoch 3/80\n",
      "1/1 [==============================] - 0s 40ms/step - loss: 0.6873 - accuracy: 0.8125 - val_loss: 0.6934 - val_accuracy: 0.5000\n",
      "Epoch 4/80\n",
      "1/1 [==============================] - 0s 40ms/step - loss: 0.6847 - accuracy: 0.8125 - val_loss: 0.6935 - val_accuracy: 0.5000\n",
      "Epoch 5/80\n",
      "1/1 [==============================] - 0s 40ms/step - loss: 0.6822 - accuracy: 0.8125 - val_loss: 0.6936 - val_accuracy: 0.5000\n",
      "Epoch 6/80\n",
      "1/1 [==============================] - 0s 40ms/step - loss: 0.6799 - accuracy: 0.8125 - val_loss: 0.6937 - val_accuracy: 0.5000\n",
      "Epoch 7/80\n",
      "1/1 [==============================] - 0s 50ms/step - loss: 0.6776 - accuracy: 0.8125 - val_loss: 0.6939 - val_accuracy: 0.5000\n",
      "Epoch 8/80\n",
      "1/1 [==============================] - 0s 50ms/step - loss: 0.6754 - accuracy: 0.8125 - val_loss: 0.6941 - val_accuracy: 0.5000\n",
      "Epoch 9/80\n",
      "1/1 [==============================] - 0s 50ms/step - loss: 0.6732 - accuracy: 0.8125 - val_loss: 0.6942 - val_accuracy: 0.5000\n",
      "Epoch 10/80\n",
      "1/1 [==============================] - 0s 50ms/step - loss: 0.6709 - accuracy: 0.8125 - val_loss: 0.6944 - val_accuracy: 0.5000\n",
      "Epoch 11/80\n",
      "1/1 [==============================] - 0s 50ms/step - loss: 0.6687 - accuracy: 0.8125 - val_loss: 0.6946 - val_accuracy: 0.5000\n",
      "Epoch 12/80\n",
      "1/1 [==============================] - 0s 50ms/step - loss: 0.6665 - accuracy: 0.8125 - val_loss: 0.6947 - val_accuracy: 0.5000\n",
      "Epoch 13/80\n",
      "1/1 [==============================] - 0s 50ms/step - loss: 0.6642 - accuracy: 0.8125 - val_loss: 0.6949 - val_accuracy: 0.5000\n",
      "Epoch 14/80\n",
      "1/1 [==============================] - 0s 50ms/step - loss: 0.6620 - accuracy: 0.8125 - val_loss: 0.6951 - val_accuracy: 0.5000\n",
      "Epoch 15/80\n",
      "1/1 [==============================] - 0s 50ms/step - loss: 0.6597 - accuracy: 0.8125 - val_loss: 0.6953 - val_accuracy: 0.5000\n",
      "Epoch 16/80\n",
      "1/1 [==============================] - 0s 50ms/step - loss: 0.6574 - accuracy: 0.8125 - val_loss: 0.6956 - val_accuracy: 0.5000\n",
      "Epoch 17/80\n",
      "1/1 [==============================] - 0s 40ms/step - loss: 0.6550 - accuracy: 0.8125 - val_loss: 0.6958 - val_accuracy: 0.5000\n",
      "Epoch 18/80\n",
      "1/1 [==============================] - 0s 40ms/step - loss: 0.6526 - accuracy: 0.8125 - val_loss: 0.6961 - val_accuracy: 0.5000\n",
      "Epoch 19/80\n",
      "1/1 [==============================] - 0s 50ms/step - loss: 0.6501 - accuracy: 0.8125 - val_loss: 0.6964 - val_accuracy: 0.5000\n",
      "Epoch 20/80\n",
      "1/1 [==============================] - 0s 50ms/step - loss: 0.6476 - accuracy: 0.8125 - val_loss: 0.6967 - val_accuracy: 0.5000\n",
      "Epoch 21/80\n",
      "1/1 [==============================] - 0s 50ms/step - loss: 0.6449 - accuracy: 0.8125 - val_loss: 0.6970 - val_accuracy: 0.5000\n",
      "Epoch 22/80\n",
      "1/1 [==============================] - 0s 50ms/step - loss: 0.6422 - accuracy: 0.8125 - val_loss: 0.6974 - val_accuracy: 0.5000\n",
      "Epoch 23/80\n",
      "1/1 [==============================] - 0s 50ms/step - loss: 0.6394 - accuracy: 0.8125 - val_loss: 0.6978 - val_accuracy: 0.5000\n",
      "Epoch 24/80\n",
      "1/1 [==============================] - 0s 50ms/step - loss: 0.6365 - accuracy: 0.8125 - val_loss: 0.6982 - val_accuracy: 0.5000\n",
      "Epoch 25/80\n",
      "1/1 [==============================] - 0s 50ms/step - loss: 0.6335 - accuracy: 0.8125 - val_loss: 0.6987 - val_accuracy: 0.5000\n",
      "Epoch 26/80\n",
      "1/1 [==============================] - 0s 50ms/step - loss: 0.6304 - accuracy: 0.8125 - val_loss: 0.6992 - val_accuracy: 0.5000\n",
      "Epoch 27/80\n",
      "1/1 [==============================] - 0s 50ms/step - loss: 0.6272 - accuracy: 0.8125 - val_loss: 0.6998 - val_accuracy: 0.5000\n",
      "Epoch 28/80\n",
      "1/1 [==============================] - 0s 50ms/step - loss: 0.6239 - accuracy: 0.8125 - val_loss: 0.7005 - val_accuracy: 0.5000\n",
      "Epoch 29/80\n",
      "1/1 [==============================] - 0s 50ms/step - loss: 0.6205 - accuracy: 0.8125 - val_loss: 0.7012 - val_accuracy: 0.5000\n",
      "Epoch 30/80\n",
      "1/1 [==============================] - 0s 50ms/step - loss: 0.6169 - accuracy: 0.8125 - val_loss: 0.7020 - val_accuracy: 0.5000\n",
      "Epoch 31/80\n",
      "1/1 [==============================] - 0s 50ms/step - loss: 0.6132 - accuracy: 0.8125 - val_loss: 0.7030 - val_accuracy: 0.5000\n",
      "Epoch 32/80\n",
      "1/1 [==============================] - 0s 50ms/step - loss: 0.6094 - accuracy: 0.8125 - val_loss: 0.7040 - val_accuracy: 0.5000\n",
      "Epoch 33/80\n",
      "1/1 [==============================] - 0s 50ms/step - loss: 0.6054 - accuracy: 0.8125 - val_loss: 0.7052 - val_accuracy: 0.5000\n",
      "Epoch 34/80\n",
      "1/1 [==============================] - 0s 50ms/step - loss: 0.6012 - accuracy: 0.8125 - val_loss: 0.7064 - val_accuracy: 0.5000\n",
      "Epoch 35/80\n",
      "1/1 [==============================] - 0s 50ms/step - loss: 0.5968 - accuracy: 0.8125 - val_loss: 0.7079 - val_accuracy: 0.5000\n",
      "Epoch 36/80\n",
      "1/1 [==============================] - 0s 50ms/step - loss: 0.5922 - accuracy: 0.8125 - val_loss: 0.7095 - val_accuracy: 0.5000\n",
      "Epoch 37/80\n",
      "1/1 [==============================] - 0s 50ms/step - loss: 0.5875 - accuracy: 0.8125 - val_loss: 0.7112 - val_accuracy: 0.5000\n",
      "Epoch 38/80\n",
      "1/1 [==============================] - 0s 50ms/step - loss: 0.5825 - accuracy: 0.8125 - val_loss: 0.7132 - val_accuracy: 0.5000\n",
      "Epoch 39/80\n",
      "1/1 [==============================] - 0s 50ms/step - loss: 0.5774 - accuracy: 0.8125 - val_loss: 0.7155 - val_accuracy: 0.5000\n",
      "Epoch 40/80\n",
      "1/1 [==============================] - 0s 50ms/step - loss: 0.5720 - accuracy: 0.8125 - val_loss: 0.7181 - val_accuracy: 0.5000\n",
      "Epoch 41/80\n",
      "1/1 [==============================] - 0s 50ms/step - loss: 0.5664 - accuracy: 0.8125 - val_loss: 0.7210 - val_accuracy: 0.5000\n",
      "Epoch 42/80\n",
      "1/1 [==============================] - 0s 40ms/step - loss: 0.5606 - accuracy: 0.8125 - val_loss: 0.7243 - val_accuracy: 0.5000\n",
      "Epoch 43/80\n",
      "1/1 [==============================] - 0s 40ms/step - loss: 0.5545 - accuracy: 0.8125 - val_loss: 0.7279 - val_accuracy: 0.5000\n",
      "Epoch 44/80\n",
      "1/1 [==============================] - 0s 50ms/step - loss: 0.5482 - accuracy: 0.8125 - val_loss: 0.7321 - val_accuracy: 0.5000\n",
      "Epoch 45/80\n",
      "1/1 [==============================] - 0s 50ms/step - loss: 0.5415 - accuracy: 0.8125 - val_loss: 0.7367 - val_accuracy: 0.5000\n",
      "Epoch 46/80\n",
      "1/1 [==============================] - 0s 40ms/step - loss: 0.5346 - accuracy: 0.8125 - val_loss: 0.7417 - val_accuracy: 0.5000\n",
      "Epoch 47/80\n",
      "1/1 [==============================] - 0s 40ms/step - loss: 0.5275 - accuracy: 0.8125 - val_loss: 0.7474 - val_accuracy: 0.5000\n",
      "Epoch 48/80\n",
      "1/1 [==============================] - 0s 40ms/step - loss: 0.5201 - accuracy: 0.8125 - val_loss: 0.7537 - val_accuracy: 0.5000\n",
      "Epoch 49/80\n",
      "1/1 [==============================] - 0s 40ms/step - loss: 0.5125 - accuracy: 0.8125 - val_loss: 0.7607 - val_accuracy: 0.5000\n",
      "Epoch 50/80\n",
      "1/1 [==============================] - 0s 40ms/step - loss: 0.5048 - accuracy: 0.8125 - val_loss: 0.7684 - val_accuracy: 0.5000\n",
      "Epoch 51/80\n",
      "1/1 [==============================] - 0s 30ms/step - loss: 0.4971 - accuracy: 0.8125 - val_loss: 0.7768 - val_accuracy: 0.5000\n",
      "Epoch 52/80\n",
      "1/1 [==============================] - 0s 30ms/step - loss: 0.4892 - accuracy: 0.8125 - val_loss: 0.7859 - val_accuracy: 0.5000\n",
      "Epoch 53/80\n",
      "1/1 [==============================] - 0s 30ms/step - loss: 0.4813 - accuracy: 0.8125 - val_loss: 0.7956 - val_accuracy: 0.5000\n",
      "Epoch 54/80\n",
      "1/1 [==============================] - 0s 40ms/step - loss: 0.4733 - accuracy: 0.8125 - val_loss: 0.8059 - val_accuracy: 0.5000\n",
      "Epoch 55/80\n",
      "1/1 [==============================] - 0s 50ms/step - loss: 0.4654 - accuracy: 0.8125 - val_loss: 0.8170 - val_accuracy: 0.5000\n",
      "Epoch 56/80\n",
      "1/1 [==============================] - 0s 50ms/step - loss: 0.4576 - accuracy: 0.8125 - val_loss: 0.8284 - val_accuracy: 0.5000\n",
      "Epoch 57/80\n",
      "1/1 [==============================] - 0s 50ms/step - loss: 0.4500 - accuracy: 0.8125 - val_loss: 0.8404 - val_accuracy: 0.5000\n",
      "Epoch 58/80\n",
      "1/1 [==============================] - 0s 40ms/step - loss: 0.4427 - accuracy: 0.8125 - val_loss: 0.8525 - val_accuracy: 0.5000\n",
      "Epoch 59/80\n"
     ]
    },
    {
     "name": "stdout",
     "output_type": "stream",
     "text": [
      "1/1 [==============================] - 0s 40ms/step - loss: 0.4356 - accuracy: 0.8125 - val_loss: 0.8648 - val_accuracy: 0.5000\n",
      "Epoch 60/80\n",
      "1/1 [==============================] - 0s 40ms/step - loss: 0.4286 - accuracy: 0.8125 - val_loss: 0.8770 - val_accuracy: 0.5000\n",
      "Epoch 61/80\n",
      "1/1 [==============================] - 0s 40ms/step - loss: 0.4218 - accuracy: 0.8125 - val_loss: 0.8892 - val_accuracy: 0.5000\n",
      "Epoch 62/80\n",
      "1/1 [==============================] - 0s 40ms/step - loss: 0.4152 - accuracy: 0.8125 - val_loss: 0.9012 - val_accuracy: 0.5000\n",
      "Epoch 63/80\n",
      "1/1 [==============================] - 0s 40ms/step - loss: 0.4092 - accuracy: 0.8125 - val_loss: 0.9130 - val_accuracy: 0.5000\n",
      "Epoch 64/80\n",
      "1/1 [==============================] - 0s 40ms/step - loss: 0.4034 - accuracy: 0.8125 - val_loss: 0.9245 - val_accuracy: 0.5000\n",
      "Epoch 65/80\n",
      "1/1 [==============================] - 0s 40ms/step - loss: 0.3978 - accuracy: 0.8125 - val_loss: 0.9358 - val_accuracy: 0.5000\n",
      "Epoch 66/80\n",
      "1/1 [==============================] - 0s 50ms/step - loss: 0.3926 - accuracy: 0.8125 - val_loss: 0.9468 - val_accuracy: 0.5000\n",
      "Epoch 67/80\n",
      "1/1 [==============================] - 0s 50ms/step - loss: 0.3875 - accuracy: 0.8125 - val_loss: 0.9577 - val_accuracy: 0.5000\n",
      "Epoch 68/80\n",
      "1/1 [==============================] - 0s 50ms/step - loss: 0.3825 - accuracy: 0.8125 - val_loss: 0.9682 - val_accuracy: 0.5000\n",
      "Epoch 69/80\n",
      "1/1 [==============================] - 0s 50ms/step - loss: 0.3775 - accuracy: 0.8750 - val_loss: 0.9782 - val_accuracy: 0.5000\n",
      "Epoch 70/80\n",
      "1/1 [==============================] - 0s 50ms/step - loss: 0.3724 - accuracy: 0.8750 - val_loss: 0.9877 - val_accuracy: 0.5000\n",
      "Epoch 71/80\n",
      "1/1 [==============================] - 0s 50ms/step - loss: 0.3672 - accuracy: 0.8750 - val_loss: 0.9968 - val_accuracy: 0.5000\n",
      "Epoch 72/80\n",
      "1/1 [==============================] - 0s 40ms/step - loss: 0.3620 - accuracy: 0.8750 - val_loss: 1.0055 - val_accuracy: 0.5000\n",
      "Epoch 73/80\n",
      "1/1 [==============================] - 0s 40ms/step - loss: 0.3566 - accuracy: 0.8750 - val_loss: 1.0135 - val_accuracy: 0.5000\n",
      "Epoch 74/80\n",
      "1/1 [==============================] - 0s 40ms/step - loss: 0.3509 - accuracy: 0.8750 - val_loss: 1.0209 - val_accuracy: 0.5000\n",
      "Epoch 75/80\n",
      "1/1 [==============================] - 0s 50ms/step - loss: 0.3452 - accuracy: 0.8750 - val_loss: 1.0278 - val_accuracy: 0.5000\n",
      "Epoch 76/80\n",
      "1/1 [==============================] - 0s 50ms/step - loss: 0.3395 - accuracy: 0.8750 - val_loss: 1.0343 - val_accuracy: 0.5000\n",
      "Epoch 77/80\n",
      "1/1 [==============================] - 0s 50ms/step - loss: 0.3339 - accuracy: 0.8750 - val_loss: 1.0402 - val_accuracy: 0.5000\n",
      "Epoch 78/80\n",
      "1/1 [==============================] - 0s 40ms/step - loss: 0.3282 - accuracy: 0.8750 - val_loss: 1.0453 - val_accuracy: 0.5000\n",
      "Epoch 79/80\n",
      "1/1 [==============================] - 0s 40ms/step - loss: 0.3224 - accuracy: 0.8750 - val_loss: 1.0498 - val_accuracy: 0.5000\n",
      "Epoch 80/80\n",
      "1/1 [==============================] - 0s 50ms/step - loss: 0.3171 - accuracy: 0.8750 - val_loss: 1.0538 - val_accuracy: 0.5000\n"
     ]
    }
   ],
   "source": [
    "r = model.fit(datatrain, ytrain, epochs = 80, validation_data=(datatest, ytest))"
   ]
  },
  {
   "cell_type": "code",
   "execution_count": 25,
   "metadata": {},
   "outputs": [],
   "source": [
    "import matplotlib.pyplot as plt"
   ]
  },
  {
   "cell_type": "code",
   "execution_count": 26,
   "metadata": {},
   "outputs": [
    {
     "data": {
      "text/plain": [
       "[<matplotlib.lines.Line2D at 0x26054470>]"
      ]
     },
     "execution_count": 26,
     "metadata": {},
     "output_type": "execute_result"
    },
    {
     "data": {
      "image/png": "[encoded data removed]",
      "text/plain": [
       "<Figure size 432x288 with 1 Axes>"
      ]
     },
     "metadata": {
      "needs_background": "light"
     },
     "output_type": "display_data"
    }
   ],
   "source": [
    "plt.plot(r.history['loss'])\n",
    "plt.plot(r.history['val_loss'])\n"
   ]
  },
  {
   "cell_type": "code",
   "execution_count": 27,
   "metadata": {},
   "outputs": [
    {
     "data": {
      "text/plain": [
       "[<matplotlib.lines.Line2D at 0x26110dd8>]"
      ]
     },
     "execution_count": 27,
     "metadata": {},
     "output_type": "execute_result"
    },
    {
     "data": {
      "image/png": "[encoded data removed]",
      "text/plain": [
       "<Figure size 432x288 with 1 Axes>"
      ]
     },
     "metadata": {
      "needs_background": "light"
     },
     "output_type": "display_data"
    }
   ],
   "source": [
    "plt.plot(r.history['accuracy'])\n",
    "plt.plot(r.history['val_accuracy'])"
   ]
  },
  {
   "cell_type": "code",
   "execution_count": 28,
   "metadata": {},
   "outputs": [
    {
     "name": "stdout",
     "output_type": "stream",
     "text": [
      "1/1 [==============================] - 1s 580ms/step\n"
     ]
    },
    {
     "data": {
      "text/plain": [
       "array([[0.8571276 ],\n",
       "       [0.85504466],\n",
       "       [0.85869145],\n",
       "       [0.85546356]], dtype=float32)"
      ]
     },
     "execution_count": 28,
     "metadata": {},
     "output_type": "execute_result"
    }
   ],
   "source": [
    "model.predict(datatest)"
   ]
  },
  {
   "cell_type": "code",
   "execution_count": 44,
   "metadata": {},
   "outputs": [
    {
     "data": {
      "text/plain": [
       "array([[ 0,  0,  0,  0,  0,  0,  0,  0,  0, 64, 12,  1],\n",
       "       [ 0,  0,  0,  0,  0,  0,  0,  0,  0,  0,  0, 31],\n",
       "       [ 0,  0,  0,  0,  0,  0,  0,  0,  0,  0, 17, 17],\n",
       "       [ 0,  0,  0,  0,  0,  0,  0,  0,  0,  4, 13, 12]])"
      ]
     },
     "execution_count": 44,
     "metadata": {},
     "output_type": "execute_result"
    }
   ],
   "source": [
    "datatest"
   ]
  },
  {
   "cell_type": "code",
   "execution_count": 47,
   "metadata": {},
   "outputs": [
    {
     "data": {
      "text/plain": [
       "[[64, 12, 1], [31], [17, 17], [4, 13, 12]]"
      ]
     },
     "execution_count": 47,
     "metadata": {},
     "output_type": "execute_result"
    }
   ],
   "source": [
    "seqtest"
   ]
  },
  {
   "cell_type": "code",
   "execution_count": null,
   "metadata": {},
   "outputs": [],
   "source": []
  },
  {
   "cell_type": "code",
   "execution_count": null,
   "metadata": {},
   "outputs": [],
   "source": []
  }
 ],
 "metadata": {
  "kernelspec": {
   "display_name": "Python 3",
   "language": "python",
   "name": "python3"
  },
  "language_info": {
   "codemirror_mode": {
    "name": "ipython",
    "version": 3
   },
   "file_extension": ".py",
   "mimetype": "text/x-python",
   "name": "python",
   "nbconvert_exporter": "python",
   "pygments_lexer": "ipython3",
   "version": "3.7.3"
  }
 },
 "nbformat": 4,
 "nbformat_minor": 2
}
