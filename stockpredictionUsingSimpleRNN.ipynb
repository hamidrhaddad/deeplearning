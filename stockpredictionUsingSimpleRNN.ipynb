{
 "cells": [
  {
   "cell_type": "code",
   "execution_count": 53,
   "metadata": {},
   "outputs": [],
   "source": [
    "import numpy as np"
   ]
  },
  {
   "cell_type": "code",
   "execution_count": 54,
   "metadata": {},
   "outputs": [],
   "source": [
    "import pandas as pd"
   ]
  },
  {
   "cell_type": "code",
   "execution_count": 55,
   "metadata": {},
   "outputs": [],
   "source": [
    "data = pd.read_excel('d:/shiran.xlsx')"
   ]
  },
  {
   "cell_type": "code",
   "execution_count": 56,
   "metadata": {},
   "outputs": [],
   "source": [
    "data2 = data.ClosePrice"
   ]
  },
  {
   "cell_type": "code",
   "execution_count": 57,
   "metadata": {},
   "outputs": [],
   "source": [
    "T=10\n",
    "D=1\n",
    "X=[]\n",
    "Y=[]"
   ]
  },
  {
   "cell_type": "code",
   "execution_count": 58,
   "metadata": {},
   "outputs": [],
   "source": [
    "for t in range(len(data2)-T):\n",
    "    x = data2[t:t+T]\n",
    "    X.append(x)\n",
    "    y= data2[t+T]\n",
    "    Y.append(y)"
   ]
  },
  {
   "cell_type": "code",
   "execution_count": 59,
   "metadata": {},
   "outputs": [],
   "source": [
    "X= np.array(X).reshape(-1,T,1)"
   ]
  },
  {
   "cell_type": "code",
   "execution_count": 60,
   "metadata": {},
   "outputs": [],
   "source": [
    "Y= np.array(Y)"
   ]
  },
  {
   "cell_type": "code",
   "execution_count": 61,
   "metadata": {},
   "outputs": [],
   "source": [
    "N= len(X)"
   ]
  },
  {
   "cell_type": "code",
   "execution_count": 62,
   "metadata": {},
   "outputs": [],
   "source": [
    "from tensorflow.keras.layers import Dense, Input, SimpleRNN"
   ]
  },
  {
   "cell_type": "code",
   "execution_count": 63,
   "metadata": {},
   "outputs": [],
   "source": [
    "from tensorflow.keras.models import Model"
   ]
  },
  {
   "cell_type": "code",
   "execution_count": 64,
   "metadata": {},
   "outputs": [],
   "source": [
    "i = Input(shape = (T,1))\n",
    "x = SimpleRNN(10, activation =None)(i)\n",
    "x = Dense(1)(x)\n",
    "model = Model(i,x)"
   ]
  },
  {
   "cell_type": "code",
   "execution_count": 65,
   "metadata": {},
   "outputs": [],
   "source": [
    "model.compile(optimizer = 'adam', loss = 'mse')"
   ]
  },
  {
   "cell_type": "code",
   "execution_count": 66,
   "metadata": {},
   "outputs": [
    {
     "name": "stdout",
     "output_type": "stream",
     "text": [
      "Epoch 1/80\n",
      "6/6 [==============================] - 1s 59ms/step - loss: 363796896.0000 - val_loss: 498227296.0000\n",
      "Epoch 2/80\n",
      "6/6 [==============================] - 0s 13ms/step - loss: 158127152.0000 - val_loss: 174096496.0000\n",
      "Epoch 3/80\n",
      "6/6 [==============================] - 0s 12ms/step - loss: 45950152.0000 - val_loss: 25688182.0000\n",
      "Epoch 4/80\n",
      "6/6 [==============================] - 0s 12ms/step - loss: 5105866.0000 - val_loss: 3812761.0000\n",
      "Epoch 5/80\n",
      "6/6 [==============================] - 0s 12ms/step - loss: 6316541.5000 - val_loss: 22315414.0000\n",
      "Epoch 6/80\n",
      "6/6 [==============================] - 0s 12ms/step - loss: 10665735.0000 - val_loss: 15620371.0000\n",
      "Epoch 7/80\n",
      "6/6 [==============================] - 0s 12ms/step - loss: 5435393.5000 - val_loss: 3123923.2500\n",
      "Epoch 8/80\n",
      "6/6 [==============================] - 0s 15ms/step - loss: 1883667.1250 - val_loss: 1489907.6250\n",
      "Epoch 9/80\n",
      "6/6 [==============================] - 0s 11ms/step - loss: 2128834.5000 - val_loss: 2931568.7500\n",
      "Epoch 10/80\n",
      "6/6 [==============================] - 0s 12ms/step - loss: 2466597.2500 - val_loss: 2427153.7500\n",
      "Epoch 11/80\n",
      "6/6 [==============================] - 0s 11ms/step - loss: 2024099.8750 - val_loss: 1326405.6250\n",
      "Epoch 12/80\n",
      "6/6 [==============================] - 0s 13ms/step - loss: 1658137.1250 - val_loss: 1240326.6250\n",
      "Epoch 13/80\n",
      "6/6 [==============================] - 0s 12ms/step - loss: 1711398.2500 - val_loss: 1416149.5000\n",
      "Epoch 14/80\n",
      "6/6 [==============================] - 0s 12ms/step - loss: 1716825.7500 - val_loss: 1292791.3750\n",
      "Epoch 15/80\n",
      "6/6 [==============================] - 0s 12ms/step - loss: 1668376.1250 - val_loss: 1180391.6250\n",
      "Epoch 16/80\n",
      "6/6 [==============================] - 0s 11ms/step - loss: 1643136.6250 - val_loss: 1187740.1250\n",
      "Epoch 17/80\n",
      "6/6 [==============================] - 0s 11ms/step - loss: 1644886.7500 - val_loss: 1178371.1250\n",
      "Epoch 18/80\n",
      "6/6 [==============================] - 0s 11ms/step - loss: 1633002.8750 - val_loss: 1170904.5000\n",
      "Epoch 19/80\n",
      "6/6 [==============================] - 0s 12ms/step - loss: 1628522.5000 - val_loss: 1175762.7500\n",
      "Epoch 20/80\n",
      "6/6 [==============================] - 0s 12ms/step - loss: 1630039.5000 - val_loss: 1166403.8750\n",
      "Epoch 21/80\n",
      "6/6 [==============================] - 0s 12ms/step - loss: 1629489.1250 - val_loss: 1175227.8750\n",
      "Epoch 22/80\n",
      "6/6 [==============================] - 0s 12ms/step - loss: 1618002.7500 - val_loss: 1164070.3750\n",
      "Epoch 23/80\n",
      "6/6 [==============================] - 0s 12ms/step - loss: 1611579.7500 - val_loss: 1155759.5000\n",
      "Epoch 24/80\n",
      "6/6 [==============================] - 0s 13ms/step - loss: 1612135.8750 - val_loss: 1152707.0000\n",
      "Epoch 25/80\n",
      "6/6 [==============================] - 0s 12ms/step - loss: 1608167.5000 - val_loss: 1149097.3750\n",
      "Epoch 26/80\n",
      "6/6 [==============================] - 0s 13ms/step - loss: 1600976.3750 - val_loss: 1146718.8750\n",
      "Epoch 27/80\n",
      "6/6 [==============================] - 0s 12ms/step - loss: 1602482.6250 - val_loss: 1151925.7500\n",
      "Epoch 28/80\n",
      "6/6 [==============================] - 0s 12ms/step - loss: 1594936.0000 - val_loss: 1141816.3750\n",
      "Epoch 29/80\n",
      "6/6 [==============================] - 0s 12ms/step - loss: 1592604.1250 - val_loss: 1137090.8750\n",
      "Epoch 30/80\n",
      "6/6 [==============================] - 0s 12ms/step - loss: 1587412.7500 - val_loss: 1132051.3750\n",
      "Epoch 31/80\n",
      "6/6 [==============================] - 0s 12ms/step - loss: 1583179.5000 - val_loss: 1129382.1250\n",
      "Epoch 32/80\n",
      "6/6 [==============================] - 0s 12ms/step - loss: 1578824.5000 - val_loss: 1127580.3750\n",
      "Epoch 33/80\n",
      "6/6 [==============================] - 0s 12ms/step - loss: 1574805.0000 - val_loss: 1121215.8750\n",
      "Epoch 34/80\n",
      "6/6 [==============================] - 0s 12ms/step - loss: 1569047.7500 - val_loss: 1118830.3750\n",
      "Epoch 35/80\n",
      "6/6 [==============================] - 0s 12ms/step - loss: 1567141.8750 - val_loss: 1118602.6250\n",
      "Epoch 36/80\n",
      "6/6 [==============================] - 0s 12ms/step - loss: 1567717.3750 - val_loss: 1115213.5000\n",
      "Epoch 37/80\n",
      "6/6 [==============================] - 0s 12ms/step - loss: 1556374.0000 - val_loss: 1106301.8750\n",
      "Epoch 38/80\n",
      "6/6 [==============================] - 0s 12ms/step - loss: 1555292.6250 - val_loss: 1102352.2500\n",
      "Epoch 39/80\n",
      "6/6 [==============================] - 0s 13ms/step - loss: 1548118.2500 - val_loss: 1098623.6250\n",
      "Epoch 40/80\n",
      "6/6 [==============================] - 0s 12ms/step - loss: 1547706.1250 - val_loss: 1102131.3750\n",
      "Epoch 41/80\n",
      "6/6 [==============================] - 0s 12ms/step - loss: 1540747.2500 - val_loss: 1091344.1250\n",
      "Epoch 42/80\n",
      "6/6 [==============================] - 0s 12ms/step - loss: 1536580.8750 - val_loss: 1088725.6250\n",
      "Epoch 43/80\n",
      "6/6 [==============================] - 0s 12ms/step - loss: 1531486.3750 - val_loss: 1085718.3750\n",
      "Epoch 44/80\n",
      "6/6 [==============================] - 0s 12ms/step - loss: 1527256.1250 - val_loss: 1081345.0000\n",
      "Epoch 45/80\n",
      "6/6 [==============================] - 0s 12ms/step - loss: 1520779.3750 - val_loss: 1075219.6250\n",
      "Epoch 46/80\n",
      "6/6 [==============================] - 0s 12ms/step - loss: 1520383.8750 - val_loss: 1072456.3750\n",
      "Epoch 47/80\n",
      "6/6 [==============================] - 0s 12ms/step - loss: 1516981.2500 - val_loss: 1070644.3750\n",
      "Epoch 48/80\n",
      "6/6 [==============================] - 0s 12ms/step - loss: 1507684.3750 - val_loss: 1066646.3750\n",
      "Epoch 49/80\n",
      "6/6 [==============================] - 0s 12ms/step - loss: 1515601.6250 - val_loss: 1069211.8750\n",
      "Epoch 50/80\n",
      "6/6 [==============================] - 0s 12ms/step - loss: 1499465.3750 - val_loss: 1056168.0000\n",
      "Epoch 51/80\n",
      "6/6 [==============================] - 0s 12ms/step - loss: 1497988.3750 - val_loss: 1051035.8750\n",
      "Epoch 52/80\n",
      "6/6 [==============================] - 0s 12ms/step - loss: 1489404.3750 - val_loss: 1048692.2500\n",
      "Epoch 53/80\n",
      "6/6 [==============================] - 0s 12ms/step - loss: 1484958.6250 - val_loss: 1043175.6875\n",
      "Epoch 54/80\n",
      "6/6 [==============================] - 0s 12ms/step - loss: 1482326.2500 - val_loss: 1039047.7500\n",
      "Epoch 55/80\n",
      "6/6 [==============================] - 0s 12ms/step - loss: 1476491.2500 - val_loss: 1035835.9375\n",
      "Epoch 56/80\n",
      "6/6 [==============================] - 0s 12ms/step - loss: 1469325.6250 - val_loss: 1042246.8125\n",
      "Epoch 57/80\n",
      "6/6 [==============================] - 0s 12ms/step - loss: 1473957.2500 - val_loss: 1039304.4375\n",
      "Epoch 58/80\n",
      "6/6 [==============================] - 0s 12ms/step - loss: 1460247.2500 - val_loss: 1022553.5625\n",
      "Epoch 59/80\n",
      "6/6 [==============================] - 0s 11ms/step - loss: 1462025.2500 - val_loss: 1021521.5625\n",
      "Epoch 60/80\n",
      "6/6 [==============================] - 0s 12ms/step - loss: 1459250.8750 - val_loss: 1021722.9375\n",
      "Epoch 61/80\n",
      "6/6 [==============================] - 0s 12ms/step - loss: 1449001.8750 - val_loss: 1011902.0000\n",
      "Epoch 62/80\n",
      "6/6 [==============================] - 0s 13ms/step - loss: 1443238.2500 - val_loss: 1007251.6875\n",
      "Epoch 63/80\n",
      "6/6 [==============================] - 0s 12ms/step - loss: 1439948.7500 - val_loss: 1001890.9375\n",
      "Epoch 64/80\n",
      "6/6 [==============================] - 0s 12ms/step - loss: 1438672.8750 - val_loss: 1003596.6875\n",
      "Epoch 65/80\n",
      "6/6 [==============================] - 0s 11ms/step - loss: 1430367.8750 - val_loss: 995833.6875\n",
      "Epoch 66/80\n",
      "6/6 [==============================] - 0s 12ms/step - loss: 1431770.2500 - val_loss: 993430.0000\n",
      "Epoch 67/80\n",
      "6/6 [==============================] - 0s 12ms/step - loss: 1420393.7500 - val_loss: 988469.7500\n",
      "Epoch 68/80\n",
      "6/6 [==============================] - 0s 12ms/step - loss: 1421419.0000 - val_loss: 988002.6875\n",
      "Epoch 69/80\n",
      "6/6 [==============================] - 0s 12ms/step - loss: 1411229.3750 - val_loss: 977088.1875\n",
      "Epoch 70/80\n",
      "6/6 [==============================] - 0s 12ms/step - loss: 1407636.5000 - val_loss: 973659.2500\n",
      "Epoch 71/80\n",
      "6/6 [==============================] - 0s 12ms/step - loss: 1403866.3750 - val_loss: 979749.8125\n",
      "Epoch 72/80\n",
      "6/6 [==============================] - 0s 11ms/step - loss: 1399855.1250 - val_loss: 964876.2500\n",
      "Epoch 73/80\n",
      "6/6 [==============================] - 0s 11ms/step - loss: 1401603.7500 - val_loss: 965198.1875\n",
      "Epoch 74/80\n",
      "6/6 [==============================] - 0s 12ms/step - loss: 1385571.3750 - val_loss: 956293.6875\n",
      "Epoch 75/80\n"
     ]
    },
    {
     "name": "stdout",
     "output_type": "stream",
     "text": [
      "6/6 [==============================] - 0s 12ms/step - loss: 1384177.1250 - val_loss: 954403.1875\n",
      "Epoch 76/80\n",
      "6/6 [==============================] - 0s 12ms/step - loss: 1377869.8750 - val_loss: 950350.9375\n",
      "Epoch 77/80\n",
      "6/6 [==============================] - 0s 12ms/step - loss: 1373974.5000 - val_loss: 948194.5000\n",
      "Epoch 78/80\n",
      "6/6 [==============================] - 0s 11ms/step - loss: 1369927.7500 - val_loss: 943278.1875\n",
      "Epoch 79/80\n",
      "6/6 [==============================] - 0s 12ms/step - loss: 1364654.1250 - val_loss: 938199.5000\n",
      "Epoch 80/80\n",
      "6/6 [==============================] - 0s 12ms/step - loss: 1358949.2500 - val_loss: 935955.1875\n"
     ]
    }
   ],
   "source": [
    "r = model.fit(\n",
    "\n",
    "X[:-N//2], Y[:-N//2],\n",
    "epochs = 80,\n",
    "validation_data=(X[-N//2:], Y[-N//2:])    \n",
    "\n",
    "\n",
    ")"
   ]
  },
  {
   "cell_type": "code",
   "execution_count": 67,
   "metadata": {},
   "outputs": [],
   "source": [
    "validation_prediction = []"
   ]
  },
  {
   "cell_type": "code",
   "execution_count": 68,
   "metadata": {},
   "outputs": [],
   "source": [
    "validation_target = Y[-N//2:]"
   ]
  },
  {
   "cell_type": "code",
   "execution_count": 69,
   "metadata": {},
   "outputs": [],
   "source": [
    "lastx = X[-N//2]"
   ]
  },
  {
   "cell_type": "code",
   "execution_count": 70,
   "metadata": {},
   "outputs": [
    {
     "name": "stdout",
     "output_type": "stream",
     "text": [
      "1/1 [==============================] - 0s 195ms/step\n",
      "1/1 [==============================] - 0s 20ms/step\n",
      "1/1 [==============================] - 0s 25ms/step\n",
      "1/1 [==============================] - 0s 25ms/step\n",
      "1/1 [==============================] - 0s 25ms/step\n",
      "1/1 [==============================] - 0s 25ms/step\n",
      "1/1 [==============================] - 0s 20ms/step\n",
      "1/1 [==============================] - 0s 20ms/step\n",
      "1/1 [==============================] - 0s 20ms/step\n",
      "1/1 [==============================] - 0s 25ms/step\n",
      "1/1 [==============================] - 0s 25ms/step\n",
      "1/1 [==============================] - 0s 25ms/step\n",
      "1/1 [==============================] - 0s 20ms/step\n",
      "1/1 [==============================] - 0s 25ms/step\n",
      "1/1 [==============================] - 0s 20ms/step\n",
      "1/1 [==============================] - 0s 25ms/step\n",
      "1/1 [==============================] - 0s 20ms/step\n",
      "1/1 [==============================] - 0s 20ms/step\n",
      "1/1 [==============================] - 0s 20ms/step\n",
      "1/1 [==============================] - 0s 20ms/step\n",
      "1/1 [==============================] - 0s 25ms/step\n",
      "1/1 [==============================] - 0s 20ms/step\n",
      "1/1 [==============================] - 0s 25ms/step\n",
      "1/1 [==============================] - 0s 25ms/step\n",
      "1/1 [==============================] - 0s 25ms/step\n",
      "1/1 [==============================] - 0s 25ms/step\n",
      "1/1 [==============================] - 0s 20ms/step\n",
      "1/1 [==============================] - 0s 20ms/step\n",
      "1/1 [==============================] - 0s 30ms/step\n",
      "1/1 [==============================] - 0s 25ms/step\n",
      "1/1 [==============================] - 0s 20ms/step\n",
      "1/1 [==============================] - 0s 25ms/step\n",
      "1/1 [==============================] - 0s 20ms/step\n",
      "1/1 [==============================] - 0s 30ms/step\n",
      "1/1 [==============================] - 0s 30ms/step\n",
      "1/1 [==============================] - 0s 30ms/step\n",
      "1/1 [==============================] - 0s 20ms/step\n",
      "1/1 [==============================] - 0s 25ms/step\n",
      "1/1 [==============================] - 0s 25ms/step\n",
      "1/1 [==============================] - 0s 25ms/step\n",
      "1/1 [==============================] - 0s 25ms/step\n",
      "1/1 [==============================] - 0s 25ms/step\n",
      "1/1 [==============================] - 0s 25ms/step\n",
      "1/1 [==============================] - 0s 25ms/step\n",
      "1/1 [==============================] - 0s 20ms/step\n",
      "1/1 [==============================] - 0s 25ms/step\n",
      "1/1 [==============================] - 0s 20ms/step\n",
      "1/1 [==============================] - 0s 25ms/step\n",
      "1/1 [==============================] - 0s 25ms/step\n",
      "1/1 [==============================] - 0s 25ms/step\n",
      "1/1 [==============================] - 0s 20ms/step\n",
      "1/1 [==============================] - 0s 25ms/step\n",
      "1/1 [==============================] - 0s 20ms/step\n",
      "1/1 [==============================] - 0s 25ms/step\n",
      "1/1 [==============================] - 0s 25ms/step\n",
      "1/1 [==============================] - 0s 30ms/step\n",
      "1/1 [==============================] - 0s 30ms/step\n",
      "1/1 [==============================] - 0s 25ms/step\n",
      "1/1 [==============================] - 0s 30ms/step\n",
      "1/1 [==============================] - 0s 25ms/step\n",
      "1/1 [==============================] - 0s 20ms/step\n",
      "1/1 [==============================] - 0s 25ms/step\n",
      "1/1 [==============================] - 0s 25ms/step\n",
      "1/1 [==============================] - 0s 25ms/step\n",
      "1/1 [==============================] - 0s 30ms/step\n",
      "1/1 [==============================] - 0s 25ms/step\n",
      "1/1 [==============================] - 0s 30ms/step\n",
      "1/1 [==============================] - 0s 25ms/step\n",
      "1/1 [==============================] - 0s 25ms/step\n",
      "1/1 [==============================] - 0s 20ms/step\n",
      "1/1 [==============================] - 0s 25ms/step\n",
      "1/1 [==============================] - 0s 25ms/step\n",
      "1/1 [==============================] - 0s 25ms/step\n",
      "1/1 [==============================] - 0s 25ms/step\n",
      "1/1 [==============================] - 0s 20ms/step\n",
      "1/1 [==============================] - 0s 25ms/step\n",
      "1/1 [==============================] - 0s 25ms/step\n",
      "1/1 [==============================] - 0s 25ms/step\n",
      "1/1 [==============================] - 0s 20ms/step\n",
      "1/1 [==============================] - 0s 30ms/step\n",
      "1/1 [==============================] - 0s 20ms/step\n",
      "1/1 [==============================] - 0s 25ms/step\n",
      "1/1 [==============================] - 0s 20ms/step\n",
      "1/1 [==============================] - 0s 25ms/step\n",
      "1/1 [==============================] - 0s 25ms/step\n",
      "1/1 [==============================] - 0s 20ms/step\n",
      "1/1 [==============================] - 0s 25ms/step\n",
      "1/1 [==============================] - 0s 25ms/step\n",
      "1/1 [==============================] - 0s 25ms/step\n",
      "1/1 [==============================] - 0s 20ms/step\n",
      "1/1 [==============================] - 0s 25ms/step\n",
      "1/1 [==============================] - 0s 20ms/step\n",
      "1/1 [==============================] - 0s 20ms/step\n",
      "1/1 [==============================] - 0s 25ms/step\n",
      "1/1 [==============================] - 0s 20ms/step\n",
      "1/1 [==============================] - 0s 25ms/step\n",
      "1/1 [==============================] - 0s 25ms/step\n",
      "1/1 [==============================] - 0s 25ms/step\n",
      "1/1 [==============================] - 0s 25ms/step\n",
      "1/1 [==============================] - 0s 20ms/step\n",
      "1/1 [==============================] - 0s 25ms/step\n",
      "1/1 [==============================] - 0s 30ms/step\n",
      "1/1 [==============================] - 0s 25ms/step\n",
      "1/1 [==============================] - 0s 25ms/step\n",
      "1/1 [==============================] - 0s 25ms/step\n",
      "1/1 [==============================] - 0s 25ms/step\n",
      "1/1 [==============================] - 0s 20ms/step\n",
      "1/1 [==============================] - 0s 25ms/step\n",
      "1/1 [==============================] - 0s 25ms/step\n",
      "1/1 [==============================] - 0s 25ms/step\n",
      "1/1 [==============================] - 0s 25ms/step\n",
      "1/1 [==============================] - 0s 25ms/step\n",
      "1/1 [==============================] - 0s 25ms/step\n",
      "1/1 [==============================] - 0s 20ms/step\n",
      "1/1 [==============================] - 0s 20ms/step\n",
      "1/1 [==============================] - 0s 25ms/step\n",
      "1/1 [==============================] - 0s 20ms/step\n",
      "1/1 [==============================] - 0s 20ms/step\n",
      "1/1 [==============================] - 0s 20ms/step\n",
      "1/1 [==============================] - 0s 25ms/step\n",
      "1/1 [==============================] - 0s 25ms/step\n",
      "1/1 [==============================] - 0s 25ms/step\n",
      "1/1 [==============================] - 0s 20ms/step\n",
      "1/1 [==============================] - 0s 20ms/step\n",
      "1/1 [==============================] - 0s 20ms/step\n",
      "1/1 [==============================] - 0s 25ms/step\n",
      "1/1 [==============================] - 0s 20ms/step\n",
      "1/1 [==============================] - 0s 20ms/step\n",
      "1/1 [==============================] - 0s 25ms/step\n",
      "1/1 [==============================] - 0s 25ms/step\n",
      "1/1 [==============================] - 0s 25ms/step\n",
      "1/1 [==============================] - 0s 25ms/step\n",
      "1/1 [==============================] - 0s 30ms/step\n",
      "1/1 [==============================] - 0s 20ms/step\n",
      "1/1 [==============================] - 0s 20ms/step\n",
      "1/1 [==============================] - 0s 25ms/step\n",
      "1/1 [==============================] - 0s 25ms/step\n",
      "1/1 [==============================] - 0s 30ms/step\n",
      "1/1 [==============================] - 0s 20ms/step\n",
      "1/1 [==============================] - 0s 25ms/step\n",
      "1/1 [==============================] - 0s 25ms/step\n",
      "1/1 [==============================] - 0s 25ms/step\n",
      "1/1 [==============================] - 0s 25ms/step\n",
      "1/1 [==============================] - 0s 20ms/step\n",
      "1/1 [==============================] - 0s 25ms/step\n",
      "1/1 [==============================] - 0s 20ms/step\n",
      "1/1 [==============================] - 0s 30ms/step\n",
      "1/1 [==============================] - 0s 20ms/step\n",
      "1/1 [==============================] - 0s 25ms/step\n",
      "1/1 [==============================] - 0s 25ms/step\n",
      "1/1 [==============================] - 0s 25ms/step\n",
      "1/1 [==============================] - 0s 25ms/step\n",
      "1/1 [==============================] - 0s 25ms/step\n",
      "1/1 [==============================] - 0s 25ms/step\n",
      "1/1 [==============================] - 0s 30ms/step\n",
      "1/1 [==============================] - 0s 20ms/step\n",
      "1/1 [==============================] - 0s 25ms/step\n"
     ]
    },
    {
     "name": "stdout",
     "output_type": "stream",
     "text": [
      "1/1 [==============================] - 0s 20ms/step\n",
      "1/1 [==============================] - 0s 25ms/step\n",
      "1/1 [==============================] - 0s 30ms/step\n",
      "1/1 [==============================] - 0s 25ms/step\n",
      "1/1 [==============================] - 0s 25ms/step\n",
      "1/1 [==============================] - 0s 20ms/step\n",
      "1/1 [==============================] - 0s 25ms/step\n",
      "1/1 [==============================] - 0s 20ms/step\n",
      "1/1 [==============================] - 0s 25ms/step\n",
      "1/1 [==============================] - 0s 25ms/step\n",
      "1/1 [==============================] - 0s 25ms/step\n",
      "1/1 [==============================] - 0s 20ms/step\n",
      "1/1 [==============================] - 0s 25ms/step\n",
      "1/1 [==============================] - 0s 25ms/step\n",
      "1/1 [==============================] - 0s 25ms/step\n",
      "1/1 [==============================] - 0s 25ms/step\n",
      "1/1 [==============================] - 0s 20ms/step\n",
      "1/1 [==============================] - 0s 20ms/step\n",
      "1/1 [==============================] - 0s 20ms/step\n",
      "1/1 [==============================] - 0s 25ms/step\n",
      "1/1 [==============================] - 0s 25ms/step\n",
      "1/1 [==============================] - 0s 25ms/step\n",
      "1/1 [==============================] - 0s 20ms/step\n",
      "1/1 [==============================] - 0s 25ms/step\n",
      "1/1 [==============================] - 0s 25ms/step\n",
      "1/1 [==============================] - 0s 20ms/step\n",
      "1/1 [==============================] - 0s 20ms/step\n",
      "1/1 [==============================] - 0s 20ms/step\n",
      "1/1 [==============================] - 0s 20ms/step\n",
      "1/1 [==============================] - 0s 25ms/step\n",
      "1/1 [==============================] - 0s 20ms/step\n",
      "1/1 [==============================] - 0s 25ms/step\n",
      "1/1 [==============================] - 0s 20ms/step\n",
      "1/1 [==============================] - 0s 25ms/step\n",
      "1/1 [==============================] - 0s 20ms/step\n"
     ]
    }
   ],
   "source": [
    "while len(validation_prediction) < len(validation_target):\n",
    "    p = model.predict(lastx.reshape(1,-1,1))[0,0]\n",
    "    validation_prediction.append(p)\n",
    "    lastx = np.roll(lastx, -1)\n",
    "    lastx[-1]=p"
   ]
  },
  {
   "cell_type": "code",
   "execution_count": 71,
   "metadata": {},
   "outputs": [],
   "source": [
    "import matplotlib.pyplot as plt"
   ]
  },
  {
   "cell_type": "code",
   "execution_count": 72,
   "metadata": {},
   "outputs": [
    {
     "data": {
      "text/plain": [
       "[<matplotlib.lines.Line2D at 0x217c5f28>]"
      ]
     },
     "execution_count": 72,
     "metadata": {},
     "output_type": "execute_result"
    },
    {
     "data": {
      "image/png": "[encoded data removed]",
      "text/plain": [
       "<Figure size 432x288 with 1 Axes>"
      ]
     },
     "metadata": {
      "needs_background": "light"
     },
     "output_type": "display_data"
    }
   ],
   "source": [
    "plt.plot(validation_prediction)\n",
    "plt.plot(validation_target)"
   ]
  },
  {
   "cell_type": "code",
   "execution_count": 73,
   "metadata": {},
   "outputs": [
    {
     "data": {
      "text/plain": [
       "[<matplotlib.lines.Line2D at 0x217c5198>]"
      ]
     },
     "execution_count": 73,
     "metadata": {},
     "output_type": "execute_result"
    },
    {
     "data": {
      "image/png": "[encoded data removed]",
      "text/plain": [
       "<Figure size 432x288 with 1 Axes>"
      ]
     },
     "metadata": {
      "needs_background": "light"
     },
     "output_type": "display_data"
    }
   ],
   "source": [
    "plt.plot(r.history['loss'])\n",
    "plt.plot(r.history['val_loss'])\n"
   ]
  },
  {
   "cell_type": "code",
   "execution_count": null,
   "metadata": {},
   "outputs": [],
   "source": []
  },
  {
   "cell_type": "code",
   "execution_count": null,
   "metadata": {},
   "outputs": [],
   "source": []
  }
 ],
 "metadata": {
  "kernelspec": {
   "display_name": "Python 3",
   "language": "python",
   "name": "python3"
  },
  "language_info": {
   "codemirror_mode": {
    "name": "ipython",
    "version": 3
   },
   "file_extension": ".py",
   "mimetype": "text/x-python",
   "name": "python",
   "nbconvert_exporter": "python",
   "pygments_lexer": "ipython3",
   "version": "3.7.3"
  }
 },
 "nbformat": 4,
 "nbformat_minor": 2
}
