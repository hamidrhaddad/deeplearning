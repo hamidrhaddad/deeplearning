{
 "cells": [
  {
   "cell_type": "code",
   "execution_count": 1,
   "metadata": {},
   "outputs": [],
   "source": [
    "import pandas as pd"
   ]
  },
  {
   "cell_type": "code",
   "execution_count": 2,
   "metadata": {},
   "outputs": [],
   "source": [
    "from tensorflow.keras.layers import Input, Embedding, Flatten, Concatenate, Dense"
   ]
  },
  {
   "cell_type": "code",
   "execution_count": 3,
   "metadata": {},
   "outputs": [],
   "source": [
    "from tensorflow.keras.models import Model"
   ]
  },
  {
   "cell_type": "code",
   "execution_count": 4,
   "metadata": {},
   "outputs": [],
   "source": [
    "data = pd.read_excel('data2.xlsx')"
   ]
  },
  {
   "cell_type": "code",
   "execution_count": 5,
   "metadata": {},
   "outputs": [],
   "source": [
    "data.person = pd.Categorical(data.person)\n",
    "data['newUserId']= data.person.cat.codes"
   ]
  },
  {
   "cell_type": "code",
   "execution_count": 6,
   "metadata": {},
   "outputs": [],
   "source": [
    "data.film = pd.Categorical(data.film)\n",
    "data['newMovieId']= data.film.cat.codes"
   ]
  },
  {
   "cell_type": "code",
   "execution_count": 7,
   "metadata": {},
   "outputs": [],
   "source": [
    "userids = data.newMovieId.values"
   ]
  },
  {
   "cell_type": "code",
   "execution_count": 8,
   "metadata": {},
   "outputs": [],
   "source": [
    "movieids = data.newMovieId.values"
   ]
  },
  {
   "cell_type": "code",
   "execution_count": 9,
   "metadata": {},
   "outputs": [],
   "source": [
    "ratings = data.rate.values"
   ]
  },
  {
   "cell_type": "code",
   "execution_count": 10,
   "metadata": {},
   "outputs": [],
   "source": [
    "N = len(set(userids))"
   ]
  },
  {
   "cell_type": "code",
   "execution_count": 11,
   "metadata": {},
   "outputs": [],
   "source": [
    "M = len(set(movieids))"
   ]
  },
  {
   "cell_type": "code",
   "execution_count": 12,
   "metadata": {},
   "outputs": [],
   "source": [
    "K=10"
   ]
  },
  {
   "cell_type": "code",
   "execution_count": 13,
   "metadata": {},
   "outputs": [],
   "source": [
    "u = Input(shape = (1,))"
   ]
  },
  {
   "cell_type": "code",
   "execution_count": 14,
   "metadata": {},
   "outputs": [],
   "source": [
    "m = Input(shape= (1,))"
   ]
  },
  {
   "cell_type": "code",
   "execution_count": 15,
   "metadata": {},
   "outputs": [],
   "source": [
    "uemb = Embedding(N,K)(u)\n",
    "memb= Embedding(M,K)(m)"
   ]
  },
  {
   "cell_type": "code",
   "execution_count": 16,
   "metadata": {},
   "outputs": [],
   "source": [
    "uemb = Flatten()(uemb)\n",
    "memb = Flatten()(memb)"
   ]
  },
  {
   "cell_type": "code",
   "execution_count": 17,
   "metadata": {},
   "outputs": [],
   "source": [
    "x = Concatenate()([uemb, memb])"
   ]
  },
  {
   "cell_type": "code",
   "execution_count": 18,
   "metadata": {},
   "outputs": [],
   "source": [
    "x = Dense(1024, activation = 'relu')(x)\n",
    "x = Dense(1)(x)"
   ]
  },
  {
   "cell_type": "code",
   "execution_count": 19,
   "metadata": {},
   "outputs": [],
   "source": [
    "model = Model (inputs = [u,m], outputs = x)"
   ]
  },
  {
   "cell_type": "code",
   "execution_count": 20,
   "metadata": {},
   "outputs": [],
   "source": [
    "from tensorflow.keras.optimizers import SGD"
   ]
  },
  {
   "cell_type": "code",
   "execution_count": 21,
   "metadata": {},
   "outputs": [],
   "source": [
    "model.compile(optimizer = SGD(learning_rate= 0.01, momentum=0.9),  loss = 'mse')"
   ]
  },
  {
   "cell_type": "code",
   "execution_count": 22,
   "metadata": {},
   "outputs": [],
   "source": [
    "from sklearn.utils import shuffle"
   ]
  },
  {
   "cell_type": "code",
   "execution_count": 23,
   "metadata": {},
   "outputs": [],
   "source": [
    "userids , movieids, ratings = shuffle(userids, movieids, ratings)"
   ]
  },
  {
   "cell_type": "code",
   "execution_count": 24,
   "metadata": {},
   "outputs": [],
   "source": [
    "Ntrain= int(0.8 * len(ratings))"
   ]
  },
  {
   "cell_type": "code",
   "execution_count": 25,
   "metadata": {},
   "outputs": [
    {
     "data": {
      "text/plain": [
       "32"
      ]
     },
     "execution_count": 25,
     "metadata": {},
     "output_type": "execute_result"
    }
   ],
   "source": [
    "Ntrain"
   ]
  },
  {
   "cell_type": "code",
   "execution_count": 26,
   "metadata": {},
   "outputs": [],
   "source": [
    "trainMovie = movieids[:Ntrain]"
   ]
  },
  {
   "cell_type": "code",
   "execution_count": 27,
   "metadata": {},
   "outputs": [],
   "source": [
    "trainuserids= userids[:Ntrain]"
   ]
  },
  {
   "cell_type": "code",
   "execution_count": 28,
   "metadata": {},
   "outputs": [],
   "source": [
    "trainratings= ratings[:Ntrain]"
   ]
  },
  {
   "cell_type": "code",
   "execution_count": 29,
   "metadata": {},
   "outputs": [],
   "source": [
    "testuser= userids[Ntrain:]"
   ]
  },
  {
   "cell_type": "code",
   "execution_count": 30,
   "metadata": {},
   "outputs": [],
   "source": [
    "testmovie= movieids[Ntrain:]"
   ]
  },
  {
   "cell_type": "code",
   "execution_count": 31,
   "metadata": {},
   "outputs": [],
   "source": [
    "testratings= ratings[Ntrain:]"
   ]
  },
  {
   "cell_type": "code",
   "execution_count": null,
   "metadata": {},
   "outputs": [],
   "source": [
    "avgrating = trainratings.mean()"
   ]
  },
  {
   "cell_type": "code",
   "execution_count": null,
   "metadata": {},
   "outputs": [],
   "source": [
    "trainratings = trainratings -avgrating"
   ]
  },
  {
   "cell_type": "code",
   "execution_count": null,
   "metadata": {},
   "outputs": [],
   "source": [
    "testratings = testratings - avgrating"
   ]
  },
  {
   "cell_type": "code",
   "execution_count": null,
   "metadata": {},
   "outputs": [],
   "source": [
    "batchsize= 600"
   ]
  },
  {
   "cell_type": "code",
   "execution_count": 32,
   "metadata": {},
   "outputs": [
    {
     "name": "stdout",
     "output_type": "stream",
     "text": [
      "Epoch 1/40\n",
      "1/1 [==============================] - 1s 1s/step - loss: 13.6477 - val_loss: 7.6613\n",
      "Epoch 2/40\n",
      "1/1 [==============================] - 0s 45ms/step - loss: 12.9460 - val_loss: 6.6888\n",
      "Epoch 3/40\n",
      "1/1 [==============================] - 0s 45ms/step - loss: 11.6791 - val_loss: 5.3919\n",
      "Epoch 4/40\n",
      "1/1 [==============================] - 0s 45ms/step - loss: 9.9493 - val_loss: 3.9470\n",
      "Epoch 5/40\n",
      "1/1 [==============================] - 0s 45ms/step - loss: 7.9360 - val_loss: 2.5900\n",
      "Epoch 6/40\n",
      "1/1 [==============================] - 0s 45ms/step - loss: 5.8883 - val_loss: 1.5642\n",
      "Epoch 7/40\n",
      "1/1 [==============================] - 0s 40ms/step - loss: 4.0628 - val_loss: 1.1089\n",
      "Epoch 8/40\n",
      "1/1 [==============================] - 0s 45ms/step - loss: 2.7185 - val_loss: 1.4111\n",
      "Epoch 9/40\n",
      "1/1 [==============================] - 0s 45ms/step - loss: 2.0802 - val_loss: 2.4883\n",
      "Epoch 10/40\n",
      "1/1 [==============================] - 0s 40ms/step - loss: 2.2344 - val_loss: 4.0569\n",
      "Epoch 11/40\n",
      "1/1 [==============================] - 0s 45ms/step - loss: 2.9977 - val_loss: 5.5366\n",
      "Epoch 12/40\n",
      "1/1 [==============================] - 0s 45ms/step - loss: 3.9013 - val_loss: 6.3122\n",
      "Epoch 13/40\n",
      "1/1 [==============================] - 0s 45ms/step - loss: 4.4132 - val_loss: 6.1089\n",
      "Epoch 14/40\n",
      "1/1 [==============================] - 0s 45ms/step - loss: 4.2763 - val_loss: 5.1347\n",
      "Epoch 15/40\n",
      "1/1 [==============================] - 0s 45ms/step - loss: 3.6432 - val_loss: 3.8646\n",
      "Epoch 16/40\n",
      "1/1 [==============================] - 0s 40ms/step - loss: 2.8877 - val_loss: 2.7180\n",
      "Epoch 17/40\n",
      "1/1 [==============================] - 0s 40ms/step - loss: 2.3222 - val_loss: 1.8980\n",
      "Epoch 18/40\n",
      "1/1 [==============================] - 0s 45ms/step - loss: 2.0658 - val_loss: 1.4167\n",
      "Epoch 19/40\n",
      "1/1 [==============================] - 0s 45ms/step - loss: 2.0777 - val_loss: 1.1903\n",
      "Epoch 20/40\n",
      "1/1 [==============================] - 0s 45ms/step - loss: 2.2478 - val_loss: 1.1155\n",
      "Epoch 21/40\n",
      "1/1 [==============================] - 0s 45ms/step - loss: 2.4636 - val_loss: 1.1081\n",
      "Epoch 22/40\n",
      "1/1 [==============================] - 0s 40ms/step - loss: 2.6423 - val_loss: 1.1157\n",
      "Epoch 23/40\n",
      "1/1 [==============================] - 0s 45ms/step - loss: 2.7382 - val_loss: 1.1159\n",
      "Epoch 24/40\n",
      "1/1 [==============================] - 0s 45ms/step - loss: 2.7394 - val_loss: 1.1091\n",
      "Epoch 25/40\n",
      "1/1 [==============================] - 0s 40ms/step - loss: 2.6593 - val_loss: 1.1091\n",
      "Epoch 26/40\n",
      "1/1 [==============================] - 0s 40ms/step - loss: 2.5261 - val_loss: 1.1344\n",
      "Epoch 27/40\n",
      "1/1 [==============================] - 0s 40ms/step - loss: 2.3732 - val_loss: 1.2004\n",
      "Epoch 28/40\n",
      "1/1 [==============================] - 0s 40ms/step - loss: 2.2311 - val_loss: 1.3149\n",
      "Epoch 29/40\n",
      "1/1 [==============================] - 0s 40ms/step - loss: 2.1223 - val_loss: 1.4758\n",
      "Epoch 30/40\n",
      "1/1 [==============================] - 0s 45ms/step - loss: 2.0582 - val_loss: 1.6710\n",
      "Epoch 31/40\n",
      "1/1 [==============================] - 0s 45ms/step - loss: 2.0394 - val_loss: 1.8809\n",
      "Epoch 32/40\n",
      "1/1 [==============================] - 0s 45ms/step - loss: 2.0573 - val_loss: 2.0814\n",
      "Epoch 33/40\n",
      "1/1 [==============================] - 0s 45ms/step - loss: 2.0974 - val_loss: 2.2493\n",
      "Epoch 34/40\n",
      "1/1 [==============================] - 0s 45ms/step - loss: 2.1429 - val_loss: 2.3661\n",
      "Epoch 35/40\n",
      "1/1 [==============================] - 0s 45ms/step - loss: 2.1794 - val_loss: 2.4218\n",
      "Epoch 36/40\n",
      "1/1 [==============================] - 0s 45ms/step - loss: 2.1976 - val_loss: 2.4163\n",
      "Epoch 37/40\n",
      "1/1 [==============================] - 0s 45ms/step - loss: 2.1947 - val_loss: 2.3575\n",
      "Epoch 38/40\n",
      "1/1 [==============================] - 0s 40ms/step - loss: 2.1736 - val_loss: 2.2594\n",
      "Epoch 39/40\n",
      "1/1 [==============================] - 0s 45ms/step - loss: 2.1411 - val_loss: 2.1377\n",
      "Epoch 40/40\n",
      "1/1 [==============================] - 0s 45ms/step - loss: 2.1050 - val_loss: 2.0072\n"
     ]
    }
   ],
   "source": [
    "r = model.fit( x= [trainuserids, trainMovie], y = trainratings, epochs=40, validation_data=([testuser, testmovie], testratings))"
   ]
  },
  {
   "cell_type": "code",
   "execution_count": 33,
   "metadata": {},
   "outputs": [],
   "source": [
    "import matplotlib.pyplot as plt"
   ]
  },
  {
   "cell_type": "code",
   "execution_count": 34,
   "metadata": {},
   "outputs": [
    {
     "data": {
      "text/plain": [
       "[<matplotlib.lines.Line2D at 0x248da128>]"
      ]
     },
     "execution_count": 34,
     "metadata": {},
     "output_type": "execute_result"
    },
    {
     "data": {
      "image/png": "[encoded data removed]",
      "text/plain": [
       "<Figure size 432x288 with 1 Axes>"
      ]
     },
     "metadata": {
      "needs_background": "light"
     },
     "output_type": "display_data"
    }
   ],
   "source": [
    "plt.plot(r.history['loss'])\n",
    "\n",
    "plt.plot(r.history['val_loss'])"
   ]
  },
  {
   "cell_type": "code",
   "execution_count": 35,
   "metadata": {},
   "outputs": [
    {
     "name": "stdout",
     "output_type": "stream",
     "text": [
      "1/1 [==============================] - 0s 155ms/step\n"
     ]
    }
   ],
   "source": [
    "yy = model.predict([testuser, testmovie])"
   ]
  },
  {
   "cell_type": "code",
   "execution_count": 36,
   "metadata": {},
   "outputs": [
    {
     "data": {
      "text/plain": [
       "array([[3.605668 ],\n",
       "       [3.5858555],\n",
       "       [3.6658564],\n",
       "       [3.6134968],\n",
       "       [3.5858555],\n",
       "       [3.6658564],\n",
       "       [3.6380234],\n",
       "       [3.6658564],\n",
       "       [3.5858555]], dtype=float32)"
      ]
     },
     "execution_count": 36,
     "metadata": {},
     "output_type": "execute_result"
    }
   ],
   "source": [
    "yy"
   ]
  },
  {
   "cell_type": "code",
   "execution_count": 37,
   "metadata": {},
   "outputs": [
    {
     "data": {
      "text/plain": [
       "array([2, 4, 5, 2, 2, 2, 2, 3, 2], dtype=int64)"
      ]
     },
     "execution_count": 37,
     "metadata": {},
     "output_type": "execute_result"
    }
   ],
   "source": [
    "testratings"
   ]
  },
  {
   "cell_type": "code",
   "execution_count": 39,
   "metadata": {},
   "outputs": [
    {
     "data": {
      "text/plain": [
       "[<matplotlib.lines.Line2D at 0x2426f588>]"
      ]
     },
     "execution_count": 39,
     "metadata": {},
     "output_type": "execute_result"
    },
    {
     "data": {
      "image/png": "[encoded data removed]",
      "text/plain": [
       "<Figure size 432x288 with 1 Axes>"
      ]
     },
     "metadata": {
      "needs_background": "light"
     },
     "output_type": "display_data"
    }
   ],
   "source": [
    "plt.plot(yy)\n",
    "plt.plot(testratings)"
   ]
  },
  {
   "cell_type": "code",
   "execution_count": null,
   "metadata": {},
   "outputs": [],
   "source": []
  }
 ],
 "metadata": {
  "kernelspec": {
   "display_name": "Python 3",
   "language": "python",
   "name": "python3"
  },
  "language_info": {
   "codemirror_mode": {
    "name": "ipython",
    "version": 3
   },
   "file_extension": ".py",
   "mimetype": "text/x-python",
   "name": "python",
   "nbconvert_exporter": "python",
   "pygments_lexer": "ipython3",
   "version": "3.7.3"
  }
 },
 "nbformat": 4,
 "nbformat_minor": 2
}
