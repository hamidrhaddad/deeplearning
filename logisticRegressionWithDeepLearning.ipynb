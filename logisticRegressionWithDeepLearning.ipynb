{
 "cells": [
  {
   "cell_type": "code",
   "execution_count": 17,
   "metadata": {},
   "outputs": [],
   "source": [
    "import tensorflow as tf"
   ]
  },
  {
   "cell_type": "code",
   "execution_count": 18,
   "metadata": {},
   "outputs": [],
   "source": [
    "from sklearn.datasets import make_blobs"
   ]
  },
  {
   "cell_type": "code",
   "execution_count": 19,
   "metadata": {},
   "outputs": [],
   "source": [
    "x,y = make_blobs(n_samples=100, centers=2)"
   ]
  },
  {
   "cell_type": "code",
   "execution_count": 34,
   "metadata": {},
   "outputs": [],
   "source": [
    "model = tf.keras.models.Sequential([\n",
    "    \n",
    "    tf.keras.layers.Input(shape = (2,)),\n",
    "    tf.keras.layers.Dense(1 , activation='sigmoid')\n",
    "    \n",
    "    \n",
    "    \n",
    "])"
   ]
  },
  {
   "cell_type": "code",
   "execution_count": 35,
   "metadata": {},
   "outputs": [],
   "source": [
    "model.compile(optimizer = 'adam', loss= 'binary_crossentropy', metrics = ['accuracy'])"
   ]
  },
  {
   "cell_type": "code",
   "execution_count": 36,
   "metadata": {},
   "outputs": [],
   "source": [
    "from sklearn.model_selection import train_test_split"
   ]
  },
  {
   "cell_type": "code",
   "execution_count": 37,
   "metadata": {},
   "outputs": [],
   "source": [
    "xtrain, xtest, ytrain, ytest = train_test_split(x,y, test_size=0.33)"
   ]
  },
  {
   "cell_type": "code",
   "execution_count": 38,
   "metadata": {},
   "outputs": [
    {
     "name": "stdout",
     "output_type": "stream",
     "text": [
      "Epoch 1/100\n",
      "3/3 [==============================] - 1s 102ms/step - loss: 1.3923 - accuracy: 0.4328 - val_loss: 1.5512 - val_accuracy: 0.3636\n",
      "Epoch 2/100\n",
      "3/3 [==============================] - 0s 18ms/step - loss: 1.3782 - accuracy: 0.4478 - val_loss: 1.5358 - val_accuracy: 0.3636\n",
      "Epoch 3/100\n",
      "3/3 [==============================] - 0s 20ms/step - loss: 1.3642 - accuracy: 0.4478 - val_loss: 1.5206 - val_accuracy: 0.3636\n",
      "Epoch 4/100\n",
      "3/3 [==============================] - 0s 21ms/step - loss: 1.3499 - accuracy: 0.4478 - val_loss: 1.5059 - val_accuracy: 0.3636\n",
      "Epoch 5/100\n",
      "3/3 [==============================] - 0s 21ms/step - loss: 1.3368 - accuracy: 0.4478 - val_loss: 1.4909 - val_accuracy: 0.3636\n",
      "Epoch 6/100\n",
      "3/3 [==============================] - 0s 21ms/step - loss: 1.3227 - accuracy: 0.4478 - val_loss: 1.4762 - val_accuracy: 0.3636\n",
      "Epoch 7/100\n",
      "3/3 [==============================] - 0s 23ms/step - loss: 1.3095 - accuracy: 0.4478 - val_loss: 1.4619 - val_accuracy: 0.3636\n",
      "Epoch 8/100\n",
      "3/3 [==============================] - 0s 21ms/step - loss: 1.2965 - accuracy: 0.4478 - val_loss: 1.4475 - val_accuracy: 0.3636\n",
      "Epoch 9/100\n",
      "3/3 [==============================] - 0s 21ms/step - loss: 1.2833 - accuracy: 0.4478 - val_loss: 1.4328 - val_accuracy: 0.3636\n",
      "Epoch 10/100\n",
      "3/3 [==============================] - 0s 21ms/step - loss: 1.2699 - accuracy: 0.4478 - val_loss: 1.4181 - val_accuracy: 0.3636\n",
      "Epoch 11/100\n",
      "3/3 [==============================] - 0s 20ms/step - loss: 1.2563 - accuracy: 0.4478 - val_loss: 1.4035 - val_accuracy: 0.3636\n",
      "Epoch 12/100\n",
      "3/3 [==============================] - 0s 22ms/step - loss: 1.2433 - accuracy: 0.4478 - val_loss: 1.3887 - val_accuracy: 0.3939\n",
      "Epoch 13/100\n",
      "3/3 [==============================] - 0s 20ms/step - loss: 1.2296 - accuracy: 0.4478 - val_loss: 1.3736 - val_accuracy: 0.3939\n",
      "Epoch 14/100\n",
      "3/3 [==============================] - 0s 21ms/step - loss: 1.2159 - accuracy: 0.4478 - val_loss: 1.3584 - val_accuracy: 0.3939\n",
      "Epoch 15/100\n",
      "3/3 [==============================] - 0s 19ms/step - loss: 1.2018 - accuracy: 0.4478 - val_loss: 1.3435 - val_accuracy: 0.4242\n",
      "Epoch 16/100\n",
      "3/3 [==============================] - 0s 19ms/step - loss: 1.1885 - accuracy: 0.4627 - val_loss: 1.3290 - val_accuracy: 0.4242\n",
      "Epoch 17/100\n",
      "3/3 [==============================] - 0s 21ms/step - loss: 1.1753 - accuracy: 0.4627 - val_loss: 1.3143 - val_accuracy: 0.4242\n",
      "Epoch 18/100\n",
      "3/3 [==============================] - 0s 21ms/step - loss: 1.1620 - accuracy: 0.4627 - val_loss: 1.2998 - val_accuracy: 0.4242\n",
      "Epoch 19/100\n",
      "3/3 [==============================] - 0s 21ms/step - loss: 1.1489 - accuracy: 0.4627 - val_loss: 1.2855 - val_accuracy: 0.4242\n",
      "Epoch 20/100\n",
      "3/3 [==============================] - 0s 21ms/step - loss: 1.1355 - accuracy: 0.4627 - val_loss: 1.2714 - val_accuracy: 0.4545\n",
      "Epoch 21/100\n",
      "3/3 [==============================] - 0s 21ms/step - loss: 1.1231 - accuracy: 0.4627 - val_loss: 1.2572 - val_accuracy: 0.4545\n",
      "Epoch 22/100\n",
      "3/3 [==============================] - 0s 21ms/step - loss: 1.1103 - accuracy: 0.4627 - val_loss: 1.2433 - val_accuracy: 0.4545\n",
      "Epoch 23/100\n",
      "3/3 [==============================] - 0s 21ms/step - loss: 1.0972 - accuracy: 0.4776 - val_loss: 1.2296 - val_accuracy: 0.4545\n",
      "Epoch 24/100\n",
      "3/3 [==============================] - 0s 21ms/step - loss: 1.0850 - accuracy: 0.4776 - val_loss: 1.2159 - val_accuracy: 0.4545\n",
      "Epoch 25/100\n",
      "3/3 [==============================] - 0s 21ms/step - loss: 1.0731 - accuracy: 0.4776 - val_loss: 1.2028 - val_accuracy: 0.4545\n",
      "Epoch 26/100\n",
      "3/3 [==============================] - 0s 21ms/step - loss: 1.0610 - accuracy: 0.4776 - val_loss: 1.1903 - val_accuracy: 0.4545\n",
      "Epoch 27/100\n",
      "3/3 [==============================] - 0s 21ms/step - loss: 1.0496 - accuracy: 0.4925 - val_loss: 1.1776 - val_accuracy: 0.4545\n",
      "Epoch 28/100\n",
      "3/3 [==============================] - 0s 21ms/step - loss: 1.0381 - accuracy: 0.4925 - val_loss: 1.1649 - val_accuracy: 0.4545\n",
      "Epoch 29/100\n",
      "3/3 [==============================] - 0s 21ms/step - loss: 1.0265 - accuracy: 0.4925 - val_loss: 1.1525 - val_accuracy: 0.4545\n",
      "Epoch 30/100\n",
      "3/3 [==============================] - 0s 21ms/step - loss: 1.0153 - accuracy: 0.4925 - val_loss: 1.1403 - val_accuracy: 0.4545\n",
      "Epoch 31/100\n",
      "3/3 [==============================] - 0s 21ms/step - loss: 1.0043 - accuracy: 0.5075 - val_loss: 1.1280 - val_accuracy: 0.4545\n",
      "Epoch 32/100\n",
      "3/3 [==============================] - 0s 21ms/step - loss: 0.9929 - accuracy: 0.5075 - val_loss: 1.1157 - val_accuracy: 0.4545\n",
      "Epoch 33/100\n",
      "3/3 [==============================] - 0s 21ms/step - loss: 0.9818 - accuracy: 0.5075 - val_loss: 1.1036 - val_accuracy: 0.4545\n",
      "Epoch 34/100\n",
      "3/3 [==============================] - 0s 20ms/step - loss: 0.9710 - accuracy: 0.5075 - val_loss: 1.0921 - val_accuracy: 0.4545\n",
      "Epoch 35/100\n",
      "3/3 [==============================] - 0s 21ms/step - loss: 0.9606 - accuracy: 0.5075 - val_loss: 1.0809 - val_accuracy: 0.4545\n",
      "Epoch 36/100\n",
      "3/3 [==============================] - 0s 20ms/step - loss: 0.9503 - accuracy: 0.5075 - val_loss: 1.0689 - val_accuracy: 0.4545\n",
      "Epoch 37/100\n",
      "3/3 [==============================] - 0s 19ms/step - loss: 0.9394 - accuracy: 0.5075 - val_loss: 1.0565 - val_accuracy: 0.4545\n",
      "Epoch 38/100\n",
      "3/3 [==============================] - 0s 20ms/step - loss: 0.9283 - accuracy: 0.5224 - val_loss: 1.0445 - val_accuracy: 0.4545\n",
      "Epoch 39/100\n",
      "3/3 [==============================] - 0s 21ms/step - loss: 0.9175 - accuracy: 0.5224 - val_loss: 1.0327 - val_accuracy: 0.4545\n",
      "Epoch 40/100\n",
      "3/3 [==============================] - 0s 20ms/step - loss: 0.9064 - accuracy: 0.5224 - val_loss: 1.0208 - val_accuracy: 0.4545\n",
      "Epoch 41/100\n",
      "3/3 [==============================] - 0s 21ms/step - loss: 0.8961 - accuracy: 0.5224 - val_loss: 1.0090 - val_accuracy: 0.4545\n",
      "Epoch 42/100\n",
      "3/3 [==============================] - 0s 21ms/step - loss: 0.8854 - accuracy: 0.5373 - val_loss: 0.9977 - val_accuracy: 0.4545\n",
      "Epoch 43/100\n",
      "3/3 [==============================] - 0s 20ms/step - loss: 0.8750 - accuracy: 0.5373 - val_loss: 0.9867 - val_accuracy: 0.4545\n",
      "Epoch 44/100\n",
      "3/3 [==============================] - 0s 21ms/step - loss: 0.8651 - accuracy: 0.5373 - val_loss: 0.9755 - val_accuracy: 0.4545\n",
      "Epoch 45/100\n",
      "3/3 [==============================] - 0s 20ms/step - loss: 0.8552 - accuracy: 0.5373 - val_loss: 0.9645 - val_accuracy: 0.4545\n",
      "Epoch 46/100\n",
      "3/3 [==============================] - 0s 21ms/step - loss: 0.8452 - accuracy: 0.5373 - val_loss: 0.9539 - val_accuracy: 0.4545\n",
      "Epoch 47/100\n",
      "3/3 [==============================] - 0s 21ms/step - loss: 0.8358 - accuracy: 0.5373 - val_loss: 0.9431 - val_accuracy: 0.4545\n",
      "Epoch 48/100\n",
      "3/3 [==============================] - 0s 21ms/step - loss: 0.8257 - accuracy: 0.5373 - val_loss: 0.9320 - val_accuracy: 0.4545\n",
      "Epoch 49/100\n",
      "3/3 [==============================] - 0s 20ms/step - loss: 0.8160 - accuracy: 0.5373 - val_loss: 0.9207 - val_accuracy: 0.4545\n",
      "Epoch 50/100\n",
      "3/3 [==============================] - 0s 18ms/step - loss: 0.8054 - accuracy: 0.5522 - val_loss: 0.9094 - val_accuracy: 0.4545\n",
      "Epoch 51/100\n",
      "3/3 [==============================] - 0s 20ms/step - loss: 0.7954 - accuracy: 0.5522 - val_loss: 0.8980 - val_accuracy: 0.4545\n",
      "Epoch 52/100\n",
      "3/3 [==============================] - 0s 18ms/step - loss: 0.7852 - accuracy: 0.5522 - val_loss: 0.8875 - val_accuracy: 0.4545\n",
      "Epoch 53/100\n",
      "3/3 [==============================] - 0s 20ms/step - loss: 0.7758 - accuracy: 0.5522 - val_loss: 0.8777 - val_accuracy: 0.4545\n",
      "Epoch 54/100\n",
      "3/3 [==============================] - 0s 20ms/step - loss: 0.7672 - accuracy: 0.5522 - val_loss: 0.8681 - val_accuracy: 0.4545\n",
      "Epoch 55/100\n",
      "3/3 [==============================] - 0s 21ms/step - loss: 0.7585 - accuracy: 0.5522 - val_loss: 0.8584 - val_accuracy: 0.4545\n",
      "Epoch 56/100\n",
      "3/3 [==============================] - 0s 18ms/step - loss: 0.7495 - accuracy: 0.5522 - val_loss: 0.8488 - val_accuracy: 0.4848\n",
      "Epoch 57/100\n",
      "3/3 [==============================] - 0s 21ms/step - loss: 0.7412 - accuracy: 0.5522 - val_loss: 0.8388 - val_accuracy: 0.4848\n",
      "Epoch 58/100\n",
      "3/3 [==============================] - 0s 21ms/step - loss: 0.7320 - accuracy: 0.5522 - val_loss: 0.8286 - val_accuracy: 0.4848\n",
      "Epoch 59/100\n"
     ]
    },
    {
     "name": "stdout",
     "output_type": "stream",
     "text": [
      "3/3 [==============================] - 0s 21ms/step - loss: 0.7229 - accuracy: 0.5522 - val_loss: 0.8188 - val_accuracy: 0.4848\n",
      "Epoch 60/100\n",
      "3/3 [==============================] - 0s 23ms/step - loss: 0.7139 - accuracy: 0.5522 - val_loss: 0.8090 - val_accuracy: 0.4848\n",
      "Epoch 61/100\n",
      "3/3 [==============================] - 0s 22ms/step - loss: 0.7053 - accuracy: 0.5522 - val_loss: 0.7992 - val_accuracy: 0.4848\n",
      "Epoch 62/100\n",
      "3/3 [==============================] - 0s 25ms/step - loss: 0.6966 - accuracy: 0.5672 - val_loss: 0.7892 - val_accuracy: 0.4848\n",
      "Epoch 63/100\n",
      "3/3 [==============================] - 0s 19ms/step - loss: 0.6878 - accuracy: 0.5672 - val_loss: 0.7795 - val_accuracy: 0.4848\n",
      "Epoch 64/100\n",
      "3/3 [==============================] - 0s 20ms/step - loss: 0.6789 - accuracy: 0.5672 - val_loss: 0.7702 - val_accuracy: 0.4848\n",
      "Epoch 65/100\n",
      "3/3 [==============================] - 0s 20ms/step - loss: 0.6706 - accuracy: 0.5672 - val_loss: 0.7609 - val_accuracy: 0.4848\n",
      "Epoch 66/100\n",
      "3/3 [==============================] - 0s 21ms/step - loss: 0.6624 - accuracy: 0.5672 - val_loss: 0.7512 - val_accuracy: 0.5455\n",
      "Epoch 67/100\n",
      "3/3 [==============================] - 0s 20ms/step - loss: 0.6535 - accuracy: 0.5672 - val_loss: 0.7420 - val_accuracy: 0.5455\n",
      "Epoch 68/100\n",
      "3/3 [==============================] - 0s 20ms/step - loss: 0.6454 - accuracy: 0.5672 - val_loss: 0.7331 - val_accuracy: 0.5455\n",
      "Epoch 69/100\n",
      "3/3 [==============================] - 0s 19ms/step - loss: 0.6374 - accuracy: 0.5672 - val_loss: 0.7243 - val_accuracy: 0.5455\n",
      "Epoch 70/100\n",
      "3/3 [==============================] - 0s 19ms/step - loss: 0.6294 - accuracy: 0.5821 - val_loss: 0.7152 - val_accuracy: 0.5455\n",
      "Epoch 71/100\n",
      "3/3 [==============================] - 0s 19ms/step - loss: 0.6213 - accuracy: 0.5821 - val_loss: 0.7060 - val_accuracy: 0.5455\n",
      "Epoch 72/100\n",
      "3/3 [==============================] - 0s 19ms/step - loss: 0.6131 - accuracy: 0.5970 - val_loss: 0.6968 - val_accuracy: 0.6061\n",
      "Epoch 73/100\n",
      "3/3 [==============================] - 0s 17ms/step - loss: 0.6050 - accuracy: 0.5970 - val_loss: 0.6878 - val_accuracy: 0.6061\n",
      "Epoch 74/100\n",
      "3/3 [==============================] - 0s 19ms/step - loss: 0.5969 - accuracy: 0.5970 - val_loss: 0.6789 - val_accuracy: 0.6364\n",
      "Epoch 75/100\n",
      "3/3 [==============================] - 0s 19ms/step - loss: 0.5891 - accuracy: 0.5970 - val_loss: 0.6700 - val_accuracy: 0.6667\n",
      "Epoch 76/100\n",
      "3/3 [==============================] - 0s 20ms/step - loss: 0.5814 - accuracy: 0.6119 - val_loss: 0.6617 - val_accuracy: 0.6667\n",
      "Epoch 77/100\n",
      "3/3 [==============================] - 0s 21ms/step - loss: 0.5737 - accuracy: 0.6119 - val_loss: 0.6534 - val_accuracy: 0.6667\n",
      "Epoch 78/100\n",
      "3/3 [==============================] - 0s 21ms/step - loss: 0.5665 - accuracy: 0.6119 - val_loss: 0.6447 - val_accuracy: 0.6667\n",
      "Epoch 79/100\n",
      "3/3 [==============================] - 0s 20ms/step - loss: 0.5586 - accuracy: 0.6119 - val_loss: 0.6363 - val_accuracy: 0.6667\n",
      "Epoch 80/100\n",
      "3/3 [==============================] - 0s 20ms/step - loss: 0.5510 - accuracy: 0.6119 - val_loss: 0.6280 - val_accuracy: 0.6667\n",
      "Epoch 81/100\n",
      "3/3 [==============================] - 0s 20ms/step - loss: 0.5439 - accuracy: 0.6119 - val_loss: 0.6199 - val_accuracy: 0.6667\n",
      "Epoch 82/100\n",
      "3/3 [==============================] - 0s 19ms/step - loss: 0.5365 - accuracy: 0.6119 - val_loss: 0.6119 - val_accuracy: 0.6667\n",
      "Epoch 83/100\n",
      "3/3 [==============================] - 0s 18ms/step - loss: 0.5295 - accuracy: 0.6119 - val_loss: 0.6038 - val_accuracy: 0.6667\n",
      "Epoch 84/100\n",
      "3/3 [==============================] - 0s 20ms/step - loss: 0.5224 - accuracy: 0.6119 - val_loss: 0.5959 - val_accuracy: 0.6667\n",
      "Epoch 85/100\n",
      "3/3 [==============================] - 0s 19ms/step - loss: 0.5157 - accuracy: 0.6119 - val_loss: 0.5883 - val_accuracy: 0.6970\n",
      "Epoch 86/100\n",
      "3/3 [==============================] - 0s 20ms/step - loss: 0.5089 - accuracy: 0.6119 - val_loss: 0.5811 - val_accuracy: 0.6970\n",
      "Epoch 87/100\n",
      "3/3 [==============================] - 0s 18ms/step - loss: 0.5023 - accuracy: 0.6269 - val_loss: 0.5743 - val_accuracy: 0.6970\n",
      "Epoch 88/100\n",
      "3/3 [==============================] - 0s 20ms/step - loss: 0.4963 - accuracy: 0.6269 - val_loss: 0.5674 - val_accuracy: 0.6970\n",
      "Epoch 89/100\n",
      "3/3 [==============================] - 0s 19ms/step - loss: 0.4905 - accuracy: 0.6567 - val_loss: 0.5604 - val_accuracy: 0.6970\n",
      "Epoch 90/100\n",
      "3/3 [==============================] - 0s 22ms/step - loss: 0.4841 - accuracy: 0.6567 - val_loss: 0.5536 - val_accuracy: 0.6970\n",
      "Epoch 91/100\n",
      "3/3 [==============================] - 0s 21ms/step - loss: 0.4783 - accuracy: 0.6567 - val_loss: 0.5469 - val_accuracy: 0.6970\n",
      "Epoch 92/100\n",
      "3/3 [==============================] - 0s 21ms/step - loss: 0.4723 - accuracy: 0.6716 - val_loss: 0.5403 - val_accuracy: 0.6970\n",
      "Epoch 93/100\n",
      "3/3 [==============================] - 0s 20ms/step - loss: 0.4663 - accuracy: 0.6716 - val_loss: 0.5336 - val_accuracy: 0.6970\n",
      "Epoch 94/100\n",
      "3/3 [==============================] - 0s 20ms/step - loss: 0.4603 - accuracy: 0.6716 - val_loss: 0.5267 - val_accuracy: 0.6970\n",
      "Epoch 95/100\n",
      "3/3 [==============================] - 0s 20ms/step - loss: 0.4541 - accuracy: 0.6866 - val_loss: 0.5197 - val_accuracy: 0.6970\n",
      "Epoch 96/100\n",
      "3/3 [==============================] - 0s 19ms/step - loss: 0.4482 - accuracy: 0.6866 - val_loss: 0.5127 - val_accuracy: 0.7273\n",
      "Epoch 97/100\n",
      "3/3 [==============================] - 0s 18ms/step - loss: 0.4419 - accuracy: 0.7015 - val_loss: 0.5061 - val_accuracy: 0.7273\n",
      "Epoch 98/100\n",
      "3/3 [==============================] - 0s 19ms/step - loss: 0.4364 - accuracy: 0.7015 - val_loss: 0.4996 - val_accuracy: 0.7273\n",
      "Epoch 99/100\n",
      "3/3 [==============================] - 0s 19ms/step - loss: 0.4307 - accuracy: 0.7015 - val_loss: 0.4938 - val_accuracy: 0.7273\n",
      "Epoch 100/100\n",
      "3/3 [==============================] - 0s 20ms/step - loss: 0.4255 - accuracy: 0.7015 - val_loss: 0.4882 - val_accuracy: 0.7273\n"
     ]
    }
   ],
   "source": [
    "r = model.fit(xtrain, ytrain, validation_data=(xtest, ytest), epochs=100 )"
   ]
  },
  {
   "cell_type": "code",
   "execution_count": 39,
   "metadata": {},
   "outputs": [],
   "source": [
    "import matplotlib.pyplot as plt"
   ]
  },
  {
   "cell_type": "code",
   "execution_count": 40,
   "metadata": {},
   "outputs": [
    {
     "data": {
      "text/plain": [
       "[<matplotlib.lines.Line2D at 0x2d782be0>]"
      ]
     },
     "execution_count": 40,
     "metadata": {},
     "output_type": "execute_result"
    },
    {
     "data": {
      "image/png": "[encoded data removed]",
      "text/plain": [
       "<Figure size 432x288 with 1 Axes>"
      ]
     },
     "metadata": {
      "needs_background": "light"
     },
     "output_type": "display_data"
    }
   ],
   "source": [
    "plt.plot(r.history['loss'], label = 'loss')\n",
    "plt.plot(r.history['val_loss'], label = 'val_loss')"
   ]
  },
  {
   "cell_type": "code",
   "execution_count": 41,
   "metadata": {},
   "outputs": [
    {
     "data": {
      "text/plain": [
       "[<matplotlib.lines.Line2D at 0x2d7a5978>]"
      ]
     },
     "execution_count": 41,
     "metadata": {},
     "output_type": "execute_result"
    },
    {
     "data": {
      "image/png": "[encoded data removed]",
      "text/plain": [
       "<Figure size 432x288 with 1 Axes>"
      ]
     },
     "metadata": {
      "needs_background": "light"
     },
     "output_type": "display_data"
    }
   ],
   "source": [
    "plt.plot(r.history['accuracy'], label = 'acuuracy')\n",
    "plt.plot(r.history['val_accuracy'], label = 'val_accuracy')"
   ]
  },
  {
   "cell_type": "code",
   "execution_count": null,
   "metadata": {},
   "outputs": [],
   "source": []
  },
  {
   "cell_type": "code",
   "execution_count": null,
   "metadata": {},
   "outputs": [],
   "source": []
  }
 ],
 "metadata": {
  "kernelspec": {
   "display_name": "Python 3",
   "language": "python",
   "name": "python3"
  },
  "language_info": {
   "codemirror_mode": {
    "name": "ipython",
    "version": 3
   },
   "file_extension": ".py",
   "mimetype": "text/x-python",
   "name": "python",
   "nbconvert_exporter": "python",
   "pygments_lexer": "ipython3",
   "version": "3.7.3"
  }
 },
 "nbformat": 4,
 "nbformat_minor": 2
}
