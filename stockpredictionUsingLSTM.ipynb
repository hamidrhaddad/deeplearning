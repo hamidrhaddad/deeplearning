{
 "cells": [
  {
   "cell_type": "code",
   "execution_count": 2,
   "metadata": {},
   "outputs": [],
   "source": [
    "import numpy as np"
   ]
  },
  {
   "cell_type": "code",
   "execution_count": 3,
   "metadata": {},
   "outputs": [],
   "source": [
    "import pandas as pd"
   ]
  },
  {
   "cell_type": "code",
   "execution_count": 4,
   "metadata": {},
   "outputs": [],
   "source": [
    "from tensorflow.keras.optimizers import Adam"
   ]
  },
  {
   "cell_type": "code",
   "execution_count": 5,
   "metadata": {},
   "outputs": [],
   "source": [
    "T=10\n",
    "D=1\n",
    "X=[]\n",
    "Y=[]"
   ]
  },
  {
   "cell_type": "code",
   "execution_count": 6,
   "metadata": {},
   "outputs": [],
   "source": [
    "data2= np.sin(0.1*np.arange(200))"
   ]
  },
  {
   "cell_type": "code",
   "execution_count": 7,
   "metadata": {},
   "outputs": [],
   "source": [
    "for t in range(len(data2)-T):\n",
    "    x = data2[t:t+T]\n",
    "    X.append(x)\n",
    "    y= data2[t+T]\n",
    "    Y.append(y)"
   ]
  },
  {
   "cell_type": "code",
   "execution_count": 8,
   "metadata": {},
   "outputs": [],
   "source": [
    "X= np.array(X).reshape(-1,T,1)"
   ]
  },
  {
   "cell_type": "code",
   "execution_count": 9,
   "metadata": {},
   "outputs": [],
   "source": [
    "Y= np.array(Y)"
   ]
  },
  {
   "cell_type": "code",
   "execution_count": 10,
   "metadata": {},
   "outputs": [],
   "source": [
    "N= len(X)"
   ]
  },
  {
   "cell_type": "code",
   "execution_count": 11,
   "metadata": {},
   "outputs": [],
   "source": [
    "from tensorflow.keras.layers import Dense, Input, LSTM, GlobalMaxPooling1D"
   ]
  },
  {
   "cell_type": "code",
   "execution_count": 12,
   "metadata": {},
   "outputs": [],
   "source": [
    "from tensorflow.keras.models import Model"
   ]
  },
  {
   "cell_type": "code",
   "execution_count": 13,
   "metadata": {},
   "outputs": [],
   "source": [
    "i = Input(shape = (T,D))\n",
    "x = LSTM(15)(i)\n",
    "x = Dense(1)(x)\n",
    "model = Model(i,x)"
   ]
  },
  {
   "cell_type": "code",
   "execution_count": 14,
   "metadata": {},
   "outputs": [
    {
     "name": "stderr",
     "output_type": "stream",
     "text": [
      "C:\\ProgramData\\Anaconda3\\lib\\site-packages\\keras\\optimizers\\optimizer_v2\\adam.py:110: UserWarning: The `lr` argument is deprecated, use `learning_rate` instead.\n",
      "  super(Adam, self).__init__(name, **kwargs)\n"
     ]
    }
   ],
   "source": [
    "model.compile(optimizer = Adam(lr=0.1), loss = 'mse')"
   ]
  },
  {
   "cell_type": "code",
   "execution_count": 15,
   "metadata": {},
   "outputs": [
    {
     "name": "stdout",
     "output_type": "stream",
     "text": [
      "Epoch 1/80\n",
      "3/3 [==============================] - 3s 350ms/step - loss: 0.4435 - val_loss: 0.2194\n",
      "Epoch 2/80\n",
      "3/3 [==============================] - 0s 25ms/step - loss: 0.2192 - val_loss: 0.0671\n",
      "Epoch 3/80\n",
      "3/3 [==============================] - 0s 25ms/step - loss: 0.0881 - val_loss: 0.0255\n",
      "Epoch 4/80\n",
      "3/3 [==============================] - 0s 30ms/step - loss: 0.0295 - val_loss: 0.0192\n",
      "Epoch 5/80\n",
      "3/3 [==============================] - 0s 25ms/step - loss: 0.0290 - val_loss: 0.0079\n",
      "Epoch 6/80\n",
      "3/3 [==============================] - 0s 25ms/step - loss: 0.0075 - val_loss: 0.0056\n",
      "Epoch 7/80\n",
      "3/3 [==============================] - 0s 25ms/step - loss: 0.0077 - val_loss: 0.0029\n",
      "Epoch 8/80\n",
      "3/3 [==============================] - 0s 30ms/step - loss: 0.0037 - val_loss: 0.0028\n",
      "Epoch 9/80\n",
      "3/3 [==============================] - 0s 25ms/step - loss: 0.0043 - val_loss: 0.0012\n",
      "Epoch 10/80\n",
      "3/3 [==============================] - 0s 25ms/step - loss: 0.0021 - val_loss: 0.0016\n",
      "Epoch 11/80\n",
      "3/3 [==============================] - 0s 30ms/step - loss: 0.0019 - val_loss: 8.2640e-04\n",
      "Epoch 12/80\n",
      "3/3 [==============================] - 0s 30ms/step - loss: 0.0014 - val_loss: 9.3426e-04\n",
      "Epoch 13/80\n",
      "3/3 [==============================] - 0s 25ms/step - loss: 0.0012 - val_loss: 0.0014\n",
      "Epoch 14/80\n",
      "3/3 [==============================] - 0s 25ms/step - loss: 0.0012 - val_loss: 0.0012\n",
      "Epoch 15/80\n",
      "3/3 [==============================] - 0s 25ms/step - loss: 0.0012 - val_loss: 0.0021\n",
      "Epoch 16/80\n",
      "3/3 [==============================] - 0s 30ms/step - loss: 0.0012 - val_loss: 0.0031\n",
      "Epoch 17/80\n",
      "3/3 [==============================] - 0s 30ms/step - loss: 9.9269e-04 - val_loss: 0.0022\n",
      "Epoch 18/80\n",
      "3/3 [==============================] - 0s 30ms/step - loss: 7.1338e-04 - val_loss: 0.0015\n",
      "Epoch 19/80\n",
      "3/3 [==============================] - 0s 30ms/step - loss: 5.9194e-04 - val_loss: 6.6491e-04\n",
      "Epoch 20/80\n",
      "3/3 [==============================] - 0s 25ms/step - loss: 3.3445e-04 - val_loss: 5.0410e-04\n",
      "Epoch 21/80\n",
      "3/3 [==============================] - 0s 30ms/step - loss: 3.2218e-04 - val_loss: 5.2906e-04\n",
      "Epoch 22/80\n",
      "3/3 [==============================] - 0s 25ms/step - loss: 2.9388e-04 - val_loss: 2.0859e-04\n",
      "Epoch 23/80\n",
      "3/3 [==============================] - 0s 25ms/step - loss: 1.6905e-04 - val_loss: 7.9137e-05\n",
      "Epoch 24/80\n",
      "3/3 [==============================] - 0s 25ms/step - loss: 8.4647e-05 - val_loss: 8.6998e-05\n",
      "Epoch 25/80\n",
      "3/3 [==============================] - 0s 25ms/step - loss: 6.6705e-05 - val_loss: 7.2288e-05\n",
      "Epoch 26/80\n",
      "3/3 [==============================] - 0s 25ms/step - loss: 5.5953e-05 - val_loss: 7.6241e-05\n",
      "Epoch 27/80\n",
      "3/3 [==============================] - 0s 25ms/step - loss: 4.4942e-05 - val_loss: 6.1612e-05\n",
      "Epoch 28/80\n",
      "3/3 [==============================] - 0s 30ms/step - loss: 3.5773e-05 - val_loss: 7.2201e-05\n",
      "Epoch 29/80\n",
      "3/3 [==============================] - 0s 25ms/step - loss: 3.7693e-05 - val_loss: 4.9154e-05\n",
      "Epoch 30/80\n",
      "3/3 [==============================] - 0s 30ms/step - loss: 3.8928e-05 - val_loss: 4.4906e-05\n",
      "Epoch 31/80\n",
      "3/3 [==============================] - 0s 25ms/step - loss: 4.3352e-05 - val_loss: 2.7093e-05\n",
      "Epoch 32/80\n",
      "3/3 [==============================] - 0s 25ms/step - loss: 3.2275e-05 - val_loss: 2.0231e-05\n",
      "Epoch 33/80\n",
      "3/3 [==============================] - 0s 25ms/step - loss: 2.3238e-05 - val_loss: 2.6821e-05\n",
      "Epoch 34/80\n",
      "3/3 [==============================] - 0s 30ms/step - loss: 2.4447e-05 - val_loss: 2.4173e-05\n",
      "Epoch 35/80\n",
      "3/3 [==============================] - 0s 30ms/step - loss: 2.3705e-05 - val_loss: 2.7242e-05\n",
      "Epoch 36/80\n",
      "3/3 [==============================] - 0s 25ms/step - loss: 2.0523e-05 - val_loss: 2.3951e-05\n",
      "Epoch 37/80\n",
      "3/3 [==============================] - 0s 30ms/step - loss: 1.5828e-05 - val_loss: 1.8895e-05\n",
      "Epoch 38/80\n",
      "3/3 [==============================] - 0s 25ms/step - loss: 1.3749e-05 - val_loss: 1.9842e-05\n",
      "Epoch 39/80\n",
      "3/3 [==============================] - 0s 30ms/step - loss: 1.4775e-05 - val_loss: 1.5980e-05\n",
      "Epoch 40/80\n",
      "3/3 [==============================] - 0s 30ms/step - loss: 1.4115e-05 - val_loss: 1.4335e-05\n",
      "Epoch 41/80\n",
      "3/3 [==============================] - 0s 25ms/step - loss: 1.5396e-05 - val_loss: 1.4787e-05\n",
      "Epoch 42/80\n",
      "3/3 [==============================] - 0s 30ms/step - loss: 2.1248e-05 - val_loss: 2.1581e-05\n",
      "Epoch 43/80\n",
      "3/3 [==============================] - 0s 25ms/step - loss: 1.6554e-05 - val_loss: 1.8368e-05\n",
      "Epoch 44/80\n",
      "3/3 [==============================] - 0s 25ms/step - loss: 1.5965e-05 - val_loss: 1.5843e-05\n",
      "Epoch 45/80\n",
      "3/3 [==============================] - 0s 30ms/step - loss: 1.3775e-05 - val_loss: 1.4011e-05\n",
      "Epoch 46/80\n",
      "3/3 [==============================] - 0s 30ms/step - loss: 1.0782e-05 - val_loss: 1.0561e-05\n",
      "Epoch 47/80\n",
      "3/3 [==============================] - 0s 25ms/step - loss: 9.7312e-06 - val_loss: 9.8263e-06\n",
      "Epoch 48/80\n",
      "3/3 [==============================] - 0s 30ms/step - loss: 8.8063e-06 - val_loss: 1.0252e-05\n",
      "Epoch 49/80\n",
      "3/3 [==============================] - 0s 25ms/step - loss: 8.8694e-06 - val_loss: 7.6881e-06\n",
      "Epoch 50/80\n",
      "3/3 [==============================] - 0s 30ms/step - loss: 8.1013e-06 - val_loss: 7.3426e-06\n",
      "Epoch 51/80\n",
      "3/3 [==============================] - 0s 25ms/step - loss: 8.8658e-06 - val_loss: 6.4574e-06\n",
      "Epoch 52/80\n",
      "3/3 [==============================] - 0s 30ms/step - loss: 7.1247e-06 - val_loss: 6.2297e-06\n",
      "Epoch 53/80\n",
      "3/3 [==============================] - 0s 35ms/step - loss: 7.2851e-06 - val_loss: 6.8972e-06\n",
      "Epoch 54/80\n",
      "3/3 [==============================] - 0s 30ms/step - loss: 7.3498e-06 - val_loss: 6.0655e-06\n",
      "Epoch 55/80\n",
      "3/3 [==============================] - 0s 30ms/step - loss: 6.8795e-06 - val_loss: 8.3344e-06\n",
      "Epoch 56/80\n",
      "3/3 [==============================] - 0s 30ms/step - loss: 7.9674e-06 - val_loss: 6.4773e-06\n",
      "Epoch 57/80\n",
      "3/3 [==============================] - 0s 25ms/step - loss: 6.5643e-06 - val_loss: 6.6774e-06\n",
      "Epoch 58/80\n",
      "3/3 [==============================] - 0s 30ms/step - loss: 5.9971e-06 - val_loss: 5.3091e-06\n",
      "Epoch 59/80\n",
      "3/3 [==============================] - 0s 25ms/step - loss: 5.4007e-06 - val_loss: 5.7367e-06\n",
      "Epoch 60/80\n",
      "3/3 [==============================] - 0s 25ms/step - loss: 5.5321e-06 - val_loss: 4.4553e-06\n",
      "Epoch 61/80\n",
      "3/3 [==============================] - 0s 25ms/step - loss: 4.9736e-06 - val_loss: 5.1290e-06\n",
      "Epoch 62/80\n",
      "3/3 [==============================] - 0s 25ms/step - loss: 4.8519e-06 - val_loss: 3.9329e-06\n",
      "Epoch 63/80\n",
      "3/3 [==============================] - 0s 25ms/step - loss: 4.3190e-06 - val_loss: 3.9249e-06\n",
      "Epoch 64/80\n",
      "3/3 [==============================] - 0s 25ms/step - loss: 4.0981e-06 - val_loss: 3.7730e-06\n",
      "Epoch 65/80\n",
      "3/3 [==============================] - 0s 25ms/step - loss: 3.8326e-06 - val_loss: 3.9165e-06\n",
      "Epoch 66/80\n",
      "3/3 [==============================] - 0s 30ms/step - loss: 3.8394e-06 - val_loss: 3.4619e-06\n",
      "Epoch 67/80\n",
      "3/3 [==============================] - 0s 25ms/step - loss: 4.6732e-06 - val_loss: 3.7939e-06\n",
      "Epoch 68/80\n",
      "3/3 [==============================] - 0s 30ms/step - loss: 4.0868e-06 - val_loss: 4.0339e-06\n",
      "Epoch 69/80\n",
      "3/3 [==============================] - 0s 25ms/step - loss: 4.6681e-06 - val_loss: 3.9797e-06\n",
      "Epoch 70/80\n",
      "3/3 [==============================] - 0s 35ms/step - loss: 3.6085e-06 - val_loss: 3.6877e-06\n",
      "Epoch 71/80\n",
      "3/3 [==============================] - 0s 25ms/step - loss: 3.5472e-06 - val_loss: 3.4789e-06\n",
      "Epoch 72/80\n",
      "3/3 [==============================] - 0s 30ms/step - loss: 3.6212e-06 - val_loss: 3.0011e-06\n",
      "Epoch 73/80\n",
      "3/3 [==============================] - 0s 30ms/step - loss: 3.1609e-06 - val_loss: 2.9805e-06\n",
      "Epoch 74/80\n",
      "3/3 [==============================] - 0s 30ms/step - loss: 3.0370e-06 - val_loss: 3.2978e-06\n",
      "Epoch 75/80\n",
      "3/3 [==============================] - 0s 30ms/step - loss: 3.1058e-06 - val_loss: 3.0016e-06\n",
      "Epoch 76/80\n",
      "3/3 [==============================] - 0s 30ms/step - loss: 3.2329e-06 - val_loss: 2.5437e-06\n",
      "Epoch 77/80\n",
      "3/3 [==============================] - 0s 30ms/step - loss: 3.0170e-06 - val_loss: 2.9236e-06\n",
      "Epoch 78/80\n",
      "3/3 [==============================] - 0s 30ms/step - loss: 3.0123e-06 - val_loss: 3.4625e-06\n",
      "Epoch 79/80\n"
     ]
    },
    {
     "name": "stdout",
     "output_type": "stream",
     "text": [
      "3/3 [==============================] - 0s 30ms/step - loss: 3.1647e-06 - val_loss: 3.1091e-06\n",
      "Epoch 80/80\n",
      "3/3 [==============================] - 0s 30ms/step - loss: 3.2449e-06 - val_loss: 3.1270e-06\n"
     ]
    }
   ],
   "source": [
    "r = model.fit(\n",
    "\n",
    "X[:-N//2], Y[:-N//2],\n",
    "epochs = 80,\n",
    "validation_data=(X[-N//2:], Y[-N//2:])    \n",
    "\n",
    "\n",
    ")"
   ]
  },
  {
   "cell_type": "code",
   "execution_count": 16,
   "metadata": {},
   "outputs": [],
   "source": [
    "validation_prediction = []"
   ]
  },
  {
   "cell_type": "code",
   "execution_count": 17,
   "metadata": {},
   "outputs": [],
   "source": [
    "validation_target = Y[-N//2:]"
   ]
  },
  {
   "cell_type": "code",
   "execution_count": 18,
   "metadata": {},
   "outputs": [],
   "source": [
    "lastx = X[-N//2]"
   ]
  },
  {
   "cell_type": "code",
   "execution_count": 19,
   "metadata": {},
   "outputs": [
    {
     "name": "stdout",
     "output_type": "stream",
     "text": [
      "1/1 [==============================] - 1s 600ms/step\n",
      "1/1 [==============================] - 0s 30ms/step\n",
      "1/1 [==============================] - 0s 20ms/step\n",
      "1/1 [==============================] - 0s 20ms/step\n",
      "1/1 [==============================] - 0s 20ms/step\n",
      "1/1 [==============================] - 0s 20ms/step\n",
      "1/1 [==============================] - 0s 30ms/step\n",
      "1/1 [==============================] - 0s 30ms/step\n",
      "1/1 [==============================] - 0s 20ms/step\n",
      "1/1 [==============================] - 0s 20ms/step\n",
      "1/1 [==============================] - 0s 20ms/step\n",
      "1/1 [==============================] - 0s 20ms/step\n",
      "1/1 [==============================] - 0s 20ms/step\n",
      "1/1 [==============================] - 0s 20ms/step\n",
      "1/1 [==============================] - 0s 20ms/step\n",
      "1/1 [==============================] - 0s 30ms/step\n",
      "1/1 [==============================] - 0s 20ms/step\n",
      "1/1 [==============================] - 0s 20ms/step\n",
      "1/1 [==============================] - 0s 30ms/step\n",
      "1/1 [==============================] - 0s 20ms/step\n",
      "1/1 [==============================] - 0s 30ms/step\n",
      "1/1 [==============================] - 0s 20ms/step\n",
      "1/1 [==============================] - 0s 20ms/step\n",
      "1/1 [==============================] - 0s 30ms/step\n",
      "1/1 [==============================] - 0s 20ms/step\n",
      "1/1 [==============================] - 0s 20ms/step\n",
      "1/1 [==============================] - 0s 20ms/step\n",
      "1/1 [==============================] - 0s 20ms/step\n",
      "1/1 [==============================] - 0s 20ms/step\n",
      "1/1 [==============================] - 0s 20ms/step\n",
      "1/1 [==============================] - 0s 30ms/step\n",
      "1/1 [==============================] - 0s 20ms/step\n",
      "1/1 [==============================] - 0s 30ms/step\n",
      "1/1 [==============================] - 0s 20ms/step\n",
      "1/1 [==============================] - 0s 30ms/step\n",
      "1/1 [==============================] - 0s 20ms/step\n",
      "1/1 [==============================] - 0s 20ms/step\n",
      "1/1 [==============================] - 0s 20ms/step\n",
      "1/1 [==============================] - 0s 30ms/step\n",
      "1/1 [==============================] - 0s 20ms/step\n",
      "1/1 [==============================] - 0s 30ms/step\n",
      "1/1 [==============================] - 0s 20ms/step\n",
      "1/1 [==============================] - 0s 20ms/step\n",
      "1/1 [==============================] - 0s 20ms/step\n",
      "1/1 [==============================] - 0s 20ms/step\n",
      "1/1 [==============================] - 0s 20ms/step\n",
      "1/1 [==============================] - 0s 20ms/step\n",
      "1/1 [==============================] - 0s 30ms/step\n",
      "1/1 [==============================] - 0s 20ms/step\n",
      "1/1 [==============================] - 0s 20ms/step\n",
      "1/1 [==============================] - 0s 20ms/step\n",
      "1/1 [==============================] - 0s 20ms/step\n",
      "1/1 [==============================] - 0s 20ms/step\n",
      "1/1 [==============================] - 0s 20ms/step\n",
      "1/1 [==============================] - 0s 20ms/step\n",
      "1/1 [==============================] - 0s 20ms/step\n",
      "1/1 [==============================] - 0s 20ms/step\n",
      "1/1 [==============================] - 0s 30ms/step\n",
      "1/1 [==============================] - 0s 20ms/step\n",
      "1/1 [==============================] - 0s 20ms/step\n",
      "1/1 [==============================] - 0s 20ms/step\n",
      "1/1 [==============================] - 0s 20ms/step\n",
      "1/1 [==============================] - 0s 20ms/step\n",
      "1/1 [==============================] - 0s 30ms/step\n",
      "1/1 [==============================] - 0s 20ms/step\n",
      "1/1 [==============================] - 0s 30ms/step\n",
      "1/1 [==============================] - 0s 20ms/step\n",
      "1/1 [==============================] - 0s 20ms/step\n",
      "1/1 [==============================] - 0s 30ms/step\n",
      "1/1 [==============================] - 0s 20ms/step\n",
      "1/1 [==============================] - 0s 20ms/step\n",
      "1/1 [==============================] - 0s 20ms/step\n",
      "1/1 [==============================] - 0s 20ms/step\n",
      "1/1 [==============================] - 0s 20ms/step\n",
      "1/1 [==============================] - 0s 20ms/step\n",
      "1/1 [==============================] - 0s 20ms/step\n",
      "1/1 [==============================] - 0s 20ms/step\n",
      "1/1 [==============================] - 0s 20ms/step\n",
      "1/1 [==============================] - 0s 20ms/step\n",
      "1/1 [==============================] - 0s 20ms/step\n",
      "1/1 [==============================] - 0s 20ms/step\n",
      "1/1 [==============================] - 0s 20ms/step\n",
      "1/1 [==============================] - 0s 20ms/step\n",
      "1/1 [==============================] - 0s 20ms/step\n",
      "1/1 [==============================] - 0s 40ms/step\n",
      "1/1 [==============================] - 0s 30ms/step\n",
      "1/1 [==============================] - 0s 30ms/step\n",
      "1/1 [==============================] - 0s 20ms/step\n",
      "1/1 [==============================] - 0s 30ms/step\n",
      "1/1 [==============================] - 0s 20ms/step\n",
      "1/1 [==============================] - 0s 20ms/step\n",
      "1/1 [==============================] - 0s 20ms/step\n",
      "1/1 [==============================] - 0s 20ms/step\n",
      "1/1 [==============================] - 0s 30ms/step\n",
      "1/1 [==============================] - 0s 20ms/step\n"
     ]
    }
   ],
   "source": [
    "while len(validation_prediction) < len(validation_target):\n",
    "    p = model.predict(lastx.reshape(1,-1,1))[0,0]\n",
    "    validation_prediction.append(p)\n",
    "    lastx = np.roll(lastx, -1)\n",
    "    lastx[-1]=p"
   ]
  },
  {
   "cell_type": "code",
   "execution_count": 20,
   "metadata": {},
   "outputs": [],
   "source": [
    "import matplotlib.pyplot as plt"
   ]
  },
  {
   "cell_type": "code",
   "execution_count": 21,
   "metadata": {},
   "outputs": [
    {
     "data": {
      "text/plain": [
       "[<matplotlib.lines.Line2D at 0x24527898>]"
      ]
     },
     "execution_count": 21,
     "metadata": {},
     "output_type": "execute_result"
    },
    {
     "data": {
      "image/png": "[encoded data removed]",
      "text/plain": [
       "<Figure size 432x288 with 1 Axes>"
      ]
     },
     "metadata": {
      "needs_background": "light"
     },
     "output_type": "display_data"
    }
   ],
   "source": [
    "plt.plot(validation_prediction)\n",
    "plt.plot(validation_target)"
   ]
  },
  {
   "cell_type": "code",
   "execution_count": 22,
   "metadata": {},
   "outputs": [
    {
     "data": {
      "text/plain": [
       "[<matplotlib.lines.Line2D at 0x245a4828>]"
      ]
     },
     "execution_count": 22,
     "metadata": {},
     "output_type": "execute_result"
    },
    {
     "data": {
      "image/png": "[encoded data removed]",
      "text/plain": [
       "<Figure size 432x288 with 1 Axes>"
      ]
     },
     "metadata": {
      "needs_background": "light"
     },
     "output_type": "display_data"
    }
   ],
   "source": [
    "plt.plot(r.history['loss'])\n",
    "plt.plot(r.history['val_loss'])\n"
   ]
  },
  {
   "cell_type": "code",
   "execution_count": null,
   "metadata": {},
   "outputs": [],
   "source": []
  },
  {
   "cell_type": "code",
   "execution_count": null,
   "metadata": {},
   "outputs": [],
   "source": []
  },
  {
   "cell_type": "code",
   "execution_count": null,
   "metadata": {},
   "outputs": [],
   "source": []
  },
  {
   "cell_type": "code",
   "execution_count": null,
   "metadata": {},
   "outputs": [],
   "source": []
  }
 ],
 "metadata": {
  "kernelspec": {
   "display_name": "Python 3",
   "language": "python",
   "name": "python3"
  },
  "language_info": {
   "codemirror_mode": {
    "name": "ipython",
    "version": 3
   },
   "file_extension": ".py",
   "mimetype": "text/x-python",
   "name": "python",
   "nbconvert_exporter": "python",
   "pygments_lexer": "ipython3",
   "version": "3.7.3"
  }
 },
 "nbformat": 4,
 "nbformat_minor": 2
}
